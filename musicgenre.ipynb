{
  "cells": [
    {
      "cell_type": "markdown",
      "metadata": {
        "id": "view-in-github",
        "colab_type": "text"
      },
      "source": [
        "<a href=\"https://colab.research.google.com/github/san-11/music-genre-classifier/blob/main/musicgenre.ipynb\" target=\"_parent\"><img src=\"https://colab.research.google.com/assets/colab-badge.svg\" alt=\"Open In Colab\"/></a>"
      ]
    },
    {
      "cell_type": "markdown",
      "source": [
        "The training data that we use in this project uses .wav files. So, we will install a package that converts an MP3 file into a .wav format. Note that, most of the downloads these days are in .mp3 format. To facilitate this conversion, install the pydub package using following command."
      ],
      "metadata": {
        "id": "sPHEtoG2Q7Q8"
      }
    },
    {
      "cell_type": "code",
      "execution_count": null,
      "metadata": {
        "colab": {
          "base_uri": "https://localhost:8080/"
        },
        "id": "RruRnxwNxrO4",
        "outputId": "7354850f-dc3d-4018-c8c7-29b3f9dab7b1"
      },
      "outputs": [
        {
          "output_type": "stream",
          "name": "stdout",
          "text": [
            "Looking in indexes: https://pypi.org/simple, https://us-python.pkg.dev/colab-wheels/public/simple/\n",
            "Collecting python_speech_features\n",
            "  Downloading python_speech_features-0.6.tar.gz (5.6 kB)\n",
            "Building wheels for collected packages: python-speech-features\n",
            "  Building wheel for python-speech-features (setup.py) ... \u001b[?25l\u001b[?25hdone\n",
            "  Created wheel for python-speech-features: filename=python_speech_features-0.6-py3-none-any.whl size=5888 sha256=4d7b0cfa8b6de5423ce187dbca9c0527da59fba00e849bc244904e8608bae95a\n",
            "  Stored in directory: /root/.cache/pip/wheels/b0/0e/94/28cd6afa3cd5998a63eef99fe31777acd7d758f59cf24839eb\n",
            "Successfully built python-speech-features\n",
            "Installing collected packages: python-speech-features\n",
            "Successfully installed python-speech-features-0.6\n",
            "Looking in indexes: https://pypi.org/simple, https://us-python.pkg.dev/colab-wheels/public/simple/\n",
            "Collecting pydub\n",
            "  Downloading pydub-0.25.1-py2.py3-none-any.whl (32 kB)\n",
            "Installing collected packages: pydub\n",
            "Successfully installed pydub-0.25.1\n"
          ]
        }
      ],
      "source": [
        "!pip install python_speech_features\n",
        "!pip install pydub"
      ]
    },
    {
      "cell_type": "markdown",
      "source": [
        " Import all required libraries in the project:"
      ],
      "metadata": {
        "id": "b56z3PC9Q3Mp"
      }
    },
    {
      "cell_type": "code",
      "execution_count": null,
      "metadata": {
        "id": "5DeFzkWMxwki"
      },
      "outputs": [],
      "source": [
        "import numpy as np\n",
        "import os\n",
        "import pickle\n",
        "import random\n",
        "import pandas as pd\n",
        "import sklearn\n",
        "import scipy.io.wavfile as wav\n",
        "from os import path\n",
        "from pydub import AudioSegment\n",
        "from python_speech_features import mfcc\n",
        "from sklearn.metrics import classification_report\n",
        "from collections import defaultdict"
      ]
    },
    {
      "cell_type": "markdown",
      "source": [
        "Unzip the downloaded files:"
      ],
      "metadata": {
        "id": "2BEDv8jgRR7s"
      }
    },
    {
      "cell_type": "code",
      "execution_count": null,
      "metadata": {
        "colab": {
          "base_uri": "https://localhost:8080/"
        },
        "id": "KRV6eNgFxxhT",
        "outputId": "bcaef73f-7fb5-448b-da47-051240e7c716"
      },
      "outputs": [
        {
          "output_type": "stream",
          "name": "stdout",
          "text": [
            "--2022-10-20 16:38:00--  https://github.com/abcom-mltutorials/music-genre/archive/master.zip\n",
            "Resolving github.com (github.com)... 140.82.114.4\n",
            "Connecting to github.com (github.com)|140.82.114.4|:443... connected.\n",
            "HTTP request sent, awaiting response... 302 Found\n",
            "Location: https://codeload.github.com/abcom-mltutorials/music-genre/zip/refs/heads/master [following]\n",
            "--2022-10-20 16:38:00--  https://codeload.github.com/abcom-mltutorials/music-genre/zip/refs/heads/master\n",
            "Resolving codeload.github.com (codeload.github.com)... 140.82.112.10\n",
            "Connecting to codeload.github.com (codeload.github.com)|140.82.112.10|:443... connected.\n",
            "HTTP request sent, awaiting response... 200 OK\n",
            "Length: unspecified [application/zip]\n",
            "Saving to: ‘master.zip’\n",
            "\n",
            "master.zip              [          <=>       ]   1.04G  16.8MB/s    in 65s     \n",
            "\n",
            "2022-10-20 16:39:05 (16.3 MB/s) - ‘master.zip’ saved [1112708013]\n",
            "\n",
            "Archive:  /content/master.zip\n",
            "03fd633a595570c9edc4c0417aad1ad90bf492f6\n",
            "   creating: music-genre-master/\n",
            "  inflating: music-genre-master/.DS_Store  \n",
            "   creating: music-genre-master/Dataset/\n",
            "   creating: music-genre-master/Dataset/blues/\n",
            "  inflating: music-genre-master/Dataset/blues/blues.00000.wav  \n",
            "  inflating: music-genre-master/Dataset/blues/blues.00001.wav  \n",
            "  inflating: music-genre-master/Dataset/blues/blues.00002.wav  \n",
            "  inflating: music-genre-master/Dataset/blues/blues.00003.wav  \n",
            "  inflating: music-genre-master/Dataset/blues/blues.00004.wav  \n",
            "  inflating: music-genre-master/Dataset/blues/blues.00005.wav  \n",
            "  inflating: music-genre-master/Dataset/blues/blues.00006.wav  \n",
            "  inflating: music-genre-master/Dataset/blues/blues.00007.wav  \n",
            "  inflating: music-genre-master/Dataset/blues/blues.00008.wav  \n",
            "  inflating: music-genre-master/Dataset/blues/blues.00009.wav  \n",
            "  inflating: music-genre-master/Dataset/blues/blues.00010.wav  \n",
            "  inflating: music-genre-master/Dataset/blues/blues.00011.wav  \n",
            "  inflating: music-genre-master/Dataset/blues/blues.00012.wav  \n",
            "  inflating: music-genre-master/Dataset/blues/blues.00013.wav  \n",
            "  inflating: music-genre-master/Dataset/blues/blues.00014.wav  \n",
            "  inflating: music-genre-master/Dataset/blues/blues.00015.wav  \n",
            "  inflating: music-genre-master/Dataset/blues/blues.00016.wav  \n",
            "  inflating: music-genre-master/Dataset/blues/blues.00017.wav  \n",
            "  inflating: music-genre-master/Dataset/blues/blues.00018.wav  \n",
            "  inflating: music-genre-master/Dataset/blues/blues.00019.wav  \n",
            "  inflating: music-genre-master/Dataset/blues/blues.00020.wav  \n",
            "  inflating: music-genre-master/Dataset/blues/blues.00021.wav  \n",
            "  inflating: music-genre-master/Dataset/blues/blues.00022.wav  \n",
            "  inflating: music-genre-master/Dataset/blues/blues.00023.wav  \n",
            "  inflating: music-genre-master/Dataset/blues/blues.00024.wav  \n",
            "  inflating: music-genre-master/Dataset/blues/blues.00025.wav  \n",
            "  inflating: music-genre-master/Dataset/blues/blues.00026.wav  \n",
            "  inflating: music-genre-master/Dataset/blues/blues.00027.wav  \n",
            "  inflating: music-genre-master/Dataset/blues/blues.00028.wav  \n",
            "  inflating: music-genre-master/Dataset/blues/blues.00029.wav  \n",
            "  inflating: music-genre-master/Dataset/blues/blues.00030.wav  \n",
            "  inflating: music-genre-master/Dataset/blues/blues.00031.wav  \n",
            "  inflating: music-genre-master/Dataset/blues/blues.00032.wav  \n",
            "  inflating: music-genre-master/Dataset/blues/blues.00033.wav  \n",
            "  inflating: music-genre-master/Dataset/blues/blues.00034.wav  \n",
            "  inflating: music-genre-master/Dataset/blues/blues.00035.wav  \n",
            "  inflating: music-genre-master/Dataset/blues/blues.00036.wav  \n",
            "  inflating: music-genre-master/Dataset/blues/blues.00037.wav  \n",
            "  inflating: music-genre-master/Dataset/blues/blues.00038.wav  \n",
            "  inflating: music-genre-master/Dataset/blues/blues.00039.wav  \n",
            "  inflating: music-genre-master/Dataset/blues/blues.00040.wav  \n",
            "  inflating: music-genre-master/Dataset/blues/blues.00041.wav  \n",
            "  inflating: music-genre-master/Dataset/blues/blues.00042.wav  \n",
            "  inflating: music-genre-master/Dataset/blues/blues.00043.wav  \n",
            "  inflating: music-genre-master/Dataset/blues/blues.00044.wav  \n",
            "  inflating: music-genre-master/Dataset/blues/blues.00045.wav  \n",
            "  inflating: music-genre-master/Dataset/blues/blues.00046.wav  \n",
            "  inflating: music-genre-master/Dataset/blues/blues.00047.wav  \n",
            "  inflating: music-genre-master/Dataset/blues/blues.00048.wav  \n",
            "  inflating: music-genre-master/Dataset/blues/blues.00049.wav  \n",
            "  inflating: music-genre-master/Dataset/blues/blues.00050.wav  \n",
            "  inflating: music-genre-master/Dataset/blues/blues.00051.wav  \n",
            "  inflating: music-genre-master/Dataset/blues/blues.00052.wav  \n",
            "  inflating: music-genre-master/Dataset/blues/blues.00053.wav  \n",
            "  inflating: music-genre-master/Dataset/blues/blues.00054.wav  \n",
            "  inflating: music-genre-master/Dataset/blues/blues.00055.wav  \n",
            "  inflating: music-genre-master/Dataset/blues/blues.00056.wav  \n",
            "  inflating: music-genre-master/Dataset/blues/blues.00057.wav  \n",
            "  inflating: music-genre-master/Dataset/blues/blues.00058.wav  \n",
            "  inflating: music-genre-master/Dataset/blues/blues.00059.wav  \n",
            "  inflating: music-genre-master/Dataset/blues/blues.00060.wav  \n",
            "  inflating: music-genre-master/Dataset/blues/blues.00061.wav  \n",
            "  inflating: music-genre-master/Dataset/blues/blues.00062.wav  \n",
            "  inflating: music-genre-master/Dataset/blues/blues.00063.wav  \n",
            "  inflating: music-genre-master/Dataset/blues/blues.00064.wav  \n",
            "  inflating: music-genre-master/Dataset/blues/blues.00065.wav  \n",
            "  inflating: music-genre-master/Dataset/blues/blues.00066.wav  \n",
            "  inflating: music-genre-master/Dataset/blues/blues.00067.wav  \n",
            "  inflating: music-genre-master/Dataset/blues/blues.00068.wav  \n",
            "  inflating: music-genre-master/Dataset/blues/blues.00069.wav  \n",
            "  inflating: music-genre-master/Dataset/blues/blues.00070.wav  \n",
            "  inflating: music-genre-master/Dataset/blues/blues.00071.wav  \n",
            "  inflating: music-genre-master/Dataset/blues/blues.00072.wav  \n",
            "  inflating: music-genre-master/Dataset/blues/blues.00073.wav  \n",
            "  inflating: music-genre-master/Dataset/blues/blues.00074.wav  \n",
            "  inflating: music-genre-master/Dataset/blues/blues.00075.wav  \n",
            "  inflating: music-genre-master/Dataset/blues/blues.00076.wav  \n",
            "  inflating: music-genre-master/Dataset/blues/blues.00077.wav  \n",
            "  inflating: music-genre-master/Dataset/blues/blues.00078.wav  \n",
            "  inflating: music-genre-master/Dataset/blues/blues.00079.wav  \n",
            "  inflating: music-genre-master/Dataset/blues/blues.00080.wav  \n",
            "  inflating: music-genre-master/Dataset/blues/blues.00081.wav  \n",
            "  inflating: music-genre-master/Dataset/blues/blues.00082.wav  \n",
            "  inflating: music-genre-master/Dataset/blues/blues.00083.wav  \n",
            "  inflating: music-genre-master/Dataset/blues/blues.00084.wav  \n",
            "  inflating: music-genre-master/Dataset/blues/blues.00085.wav  \n",
            "  inflating: music-genre-master/Dataset/blues/blues.00086.wav  \n",
            "  inflating: music-genre-master/Dataset/blues/blues.00087.wav  \n",
            "  inflating: music-genre-master/Dataset/blues/blues.00088.wav  \n",
            "  inflating: music-genre-master/Dataset/blues/blues.00089.wav  \n",
            "  inflating: music-genre-master/Dataset/blues/blues.00090.wav  \n",
            "  inflating: music-genre-master/Dataset/blues/blues.00091.wav  \n",
            "  inflating: music-genre-master/Dataset/blues/blues.00092.wav  \n",
            "  inflating: music-genre-master/Dataset/blues/blues.00093.wav  \n",
            "  inflating: music-genre-master/Dataset/blues/blues.00094.wav  \n",
            "  inflating: music-genre-master/Dataset/blues/blues.00095.wav  \n",
            "  inflating: music-genre-master/Dataset/blues/blues.00096.wav  \n",
            "  inflating: music-genre-master/Dataset/blues/blues.00097.wav  \n",
            "  inflating: music-genre-master/Dataset/blues/blues.00098.wav  \n",
            "  inflating: music-genre-master/Dataset/blues/blues.00099.wav  \n",
            "   creating: music-genre-master/Dataset/classical/\n",
            "  inflating: music-genre-master/Dataset/classical/classical.00000.wav  \n",
            "  inflating: music-genre-master/Dataset/classical/classical.00001.wav  \n",
            "  inflating: music-genre-master/Dataset/classical/classical.00002.wav  \n",
            "  inflating: music-genre-master/Dataset/classical/classical.00003.wav  \n",
            "  inflating: music-genre-master/Dataset/classical/classical.00004.wav  \n",
            "  inflating: music-genre-master/Dataset/classical/classical.00005.wav  \n",
            "  inflating: music-genre-master/Dataset/classical/classical.00006.wav  \n",
            "  inflating: music-genre-master/Dataset/classical/classical.00007.wav  \n",
            "  inflating: music-genre-master/Dataset/classical/classical.00008.wav  \n",
            "  inflating: music-genre-master/Dataset/classical/classical.00009.wav  \n",
            "  inflating: music-genre-master/Dataset/classical/classical.00010.wav  \n",
            "  inflating: music-genre-master/Dataset/classical/classical.00011.wav  \n",
            "  inflating: music-genre-master/Dataset/classical/classical.00012.wav  \n",
            "  inflating: music-genre-master/Dataset/classical/classical.00013.wav  \n",
            "  inflating: music-genre-master/Dataset/classical/classical.00014.wav  \n",
            "  inflating: music-genre-master/Dataset/classical/classical.00015.wav  \n",
            "  inflating: music-genre-master/Dataset/classical/classical.00016.wav  \n",
            "  inflating: music-genre-master/Dataset/classical/classical.00017.wav  \n",
            "  inflating: music-genre-master/Dataset/classical/classical.00018.wav  \n",
            "  inflating: music-genre-master/Dataset/classical/classical.00019.wav  \n",
            "  inflating: music-genre-master/Dataset/classical/classical.00020.wav  \n",
            "  inflating: music-genre-master/Dataset/classical/classical.00021.wav  \n",
            "  inflating: music-genre-master/Dataset/classical/classical.00022.wav  \n",
            "  inflating: music-genre-master/Dataset/classical/classical.00023.wav  \n",
            "  inflating: music-genre-master/Dataset/classical/classical.00024.wav  \n",
            "  inflating: music-genre-master/Dataset/classical/classical.00025.wav  \n",
            "  inflating: music-genre-master/Dataset/classical/classical.00026.wav  \n",
            "  inflating: music-genre-master/Dataset/classical/classical.00027.wav  \n",
            "  inflating: music-genre-master/Dataset/classical/classical.00028.wav  \n",
            "  inflating: music-genre-master/Dataset/classical/classical.00029.wav  \n",
            "  inflating: music-genre-master/Dataset/classical/classical.00030.wav  \n",
            "  inflating: music-genre-master/Dataset/classical/classical.00031.wav  \n",
            "  inflating: music-genre-master/Dataset/classical/classical.00032.wav  \n",
            "  inflating: music-genre-master/Dataset/classical/classical.00033.wav  \n",
            "  inflating: music-genre-master/Dataset/classical/classical.00034.wav  \n",
            "  inflating: music-genre-master/Dataset/classical/classical.00035.wav  \n",
            "  inflating: music-genre-master/Dataset/classical/classical.00036.wav  \n",
            "  inflating: music-genre-master/Dataset/classical/classical.00037.wav  \n",
            "  inflating: music-genre-master/Dataset/classical/classical.00038.wav  \n",
            "  inflating: music-genre-master/Dataset/classical/classical.00039.wav  \n",
            "  inflating: music-genre-master/Dataset/classical/classical.00040.wav  \n",
            "  inflating: music-genre-master/Dataset/classical/classical.00041.wav  \n",
            "  inflating: music-genre-master/Dataset/classical/classical.00042.wav  \n",
            "  inflating: music-genre-master/Dataset/classical/classical.00043.wav  \n",
            "  inflating: music-genre-master/Dataset/classical/classical.00044.wav  \n",
            "  inflating: music-genre-master/Dataset/classical/classical.00045.wav  \n",
            "  inflating: music-genre-master/Dataset/classical/classical.00046.wav  \n",
            "  inflating: music-genre-master/Dataset/classical/classical.00047.wav  \n",
            "  inflating: music-genre-master/Dataset/classical/classical.00048.wav  \n",
            "  inflating: music-genre-master/Dataset/classical/classical.00049.wav  \n",
            "  inflating: music-genre-master/Dataset/classical/classical.00050.wav  \n",
            "  inflating: music-genre-master/Dataset/classical/classical.00051.wav  \n",
            "  inflating: music-genre-master/Dataset/classical/classical.00052.wav  \n",
            "  inflating: music-genre-master/Dataset/classical/classical.00053.wav  \n",
            "  inflating: music-genre-master/Dataset/classical/classical.00054.wav  \n",
            "  inflating: music-genre-master/Dataset/classical/classical.00055.wav  \n",
            "  inflating: music-genre-master/Dataset/classical/classical.00056.wav  \n",
            "  inflating: music-genre-master/Dataset/classical/classical.00057.wav  \n",
            "  inflating: music-genre-master/Dataset/classical/classical.00058.wav  \n",
            "  inflating: music-genre-master/Dataset/classical/classical.00059.wav  \n",
            "  inflating: music-genre-master/Dataset/classical/classical.00060.wav  \n",
            "  inflating: music-genre-master/Dataset/classical/classical.00061.wav  \n",
            "  inflating: music-genre-master/Dataset/classical/classical.00062.wav  \n",
            "  inflating: music-genre-master/Dataset/classical/classical.00063.wav  \n",
            "  inflating: music-genre-master/Dataset/classical/classical.00064.wav  \n",
            "  inflating: music-genre-master/Dataset/classical/classical.00065.wav  \n",
            "  inflating: music-genre-master/Dataset/classical/classical.00066.wav  \n",
            "  inflating: music-genre-master/Dataset/classical/classical.00067.wav  \n",
            "  inflating: music-genre-master/Dataset/classical/classical.00068.wav  \n",
            "  inflating: music-genre-master/Dataset/classical/classical.00069.wav  \n",
            "  inflating: music-genre-master/Dataset/classical/classical.00070.wav  \n",
            "  inflating: music-genre-master/Dataset/classical/classical.00071.wav  \n",
            "  inflating: music-genre-master/Dataset/classical/classical.00072.wav  \n",
            "  inflating: music-genre-master/Dataset/classical/classical.00073.wav  \n",
            "  inflating: music-genre-master/Dataset/classical/classical.00074.wav  \n",
            "  inflating: music-genre-master/Dataset/classical/classical.00075.wav  \n",
            "  inflating: music-genre-master/Dataset/classical/classical.00076.wav  \n",
            "  inflating: music-genre-master/Dataset/classical/classical.00077.wav  \n",
            "  inflating: music-genre-master/Dataset/classical/classical.00078.wav  \n",
            "  inflating: music-genre-master/Dataset/classical/classical.00079.wav  \n",
            "  inflating: music-genre-master/Dataset/classical/classical.00080.wav  \n",
            "  inflating: music-genre-master/Dataset/classical/classical.00081.wav  \n",
            "  inflating: music-genre-master/Dataset/classical/classical.00082.wav  \n",
            "  inflating: music-genre-master/Dataset/classical/classical.00083.wav  \n",
            "  inflating: music-genre-master/Dataset/classical/classical.00084.wav  \n",
            "  inflating: music-genre-master/Dataset/classical/classical.00085.wav  \n",
            "  inflating: music-genre-master/Dataset/classical/classical.00086.wav  \n",
            "  inflating: music-genre-master/Dataset/classical/classical.00087.wav  \n",
            "  inflating: music-genre-master/Dataset/classical/classical.00088.wav  \n",
            "  inflating: music-genre-master/Dataset/classical/classical.00089.wav  \n",
            "  inflating: music-genre-master/Dataset/classical/classical.00090.wav  \n",
            "  inflating: music-genre-master/Dataset/classical/classical.00091.wav  \n",
            "  inflating: music-genre-master/Dataset/classical/classical.00092.wav  \n",
            "  inflating: music-genre-master/Dataset/classical/classical.00093.wav  \n",
            "  inflating: music-genre-master/Dataset/classical/classical.00094.wav  \n",
            "  inflating: music-genre-master/Dataset/classical/classical.00095.wav  \n",
            "  inflating: music-genre-master/Dataset/classical/classical.00096.wav  \n",
            "  inflating: music-genre-master/Dataset/classical/classical.00097.wav  \n",
            "  inflating: music-genre-master/Dataset/classical/classical.00098.wav  \n",
            "  inflating: music-genre-master/Dataset/classical/classical.00099.wav  \n",
            "   creating: music-genre-master/Dataset/country/\n",
            "  inflating: music-genre-master/Dataset/country/country.00000.wav  \n",
            "  inflating: music-genre-master/Dataset/country/country.00001.wav  \n",
            "  inflating: music-genre-master/Dataset/country/country.00002.wav  \n",
            "  inflating: music-genre-master/Dataset/country/country.00003.wav  \n",
            "  inflating: music-genre-master/Dataset/country/country.00004.wav  \n",
            "  inflating: music-genre-master/Dataset/country/country.00005.wav  \n",
            "  inflating: music-genre-master/Dataset/country/country.00006.wav  \n",
            "  inflating: music-genre-master/Dataset/country/country.00007.wav  \n",
            "  inflating: music-genre-master/Dataset/country/country.00008.wav  \n",
            "  inflating: music-genre-master/Dataset/country/country.00009.wav  \n",
            "  inflating: music-genre-master/Dataset/country/country.00010.wav  \n",
            "  inflating: music-genre-master/Dataset/country/country.00011.wav  \n",
            "  inflating: music-genre-master/Dataset/country/country.00012.wav  \n",
            "  inflating: music-genre-master/Dataset/country/country.00013.wav  \n",
            "  inflating: music-genre-master/Dataset/country/country.00014.wav  \n",
            "  inflating: music-genre-master/Dataset/country/country.00015.wav  \n",
            "  inflating: music-genre-master/Dataset/country/country.00016.wav  \n",
            "  inflating: music-genre-master/Dataset/country/country.00017.wav  \n",
            "  inflating: music-genre-master/Dataset/country/country.00018.wav  \n",
            "  inflating: music-genre-master/Dataset/country/country.00019.wav  \n",
            "  inflating: music-genre-master/Dataset/country/country.00020.wav  \n",
            "  inflating: music-genre-master/Dataset/country/country.00021.wav  \n",
            "  inflating: music-genre-master/Dataset/country/country.00022.wav  \n",
            "  inflating: music-genre-master/Dataset/country/country.00023.wav  \n",
            "  inflating: music-genre-master/Dataset/country/country.00024.wav  \n",
            "  inflating: music-genre-master/Dataset/country/country.00025.wav  \n",
            "  inflating: music-genre-master/Dataset/country/country.00026.wav  \n",
            "  inflating: music-genre-master/Dataset/country/country.00027.wav  \n",
            "  inflating: music-genre-master/Dataset/country/country.00028.wav  \n",
            "  inflating: music-genre-master/Dataset/country/country.00029.wav  \n",
            "  inflating: music-genre-master/Dataset/country/country.00030.wav  \n",
            "  inflating: music-genre-master/Dataset/country/country.00031.wav  \n",
            "  inflating: music-genre-master/Dataset/country/country.00032.wav  \n",
            "  inflating: music-genre-master/Dataset/country/country.00033.wav  \n",
            "  inflating: music-genre-master/Dataset/country/country.00034.wav  \n",
            "  inflating: music-genre-master/Dataset/country/country.00035.wav  \n",
            "  inflating: music-genre-master/Dataset/country/country.00036.wav  \n",
            "  inflating: music-genre-master/Dataset/country/country.00037.wav  \n",
            "  inflating: music-genre-master/Dataset/country/country.00038.wav  \n",
            "  inflating: music-genre-master/Dataset/country/country.00039.wav  \n",
            "  inflating: music-genre-master/Dataset/country/country.00040.wav  \n",
            "  inflating: music-genre-master/Dataset/country/country.00041.wav  \n",
            "  inflating: music-genre-master/Dataset/country/country.00042.wav  \n",
            "  inflating: music-genre-master/Dataset/country/country.00043.wav  \n",
            "  inflating: music-genre-master/Dataset/country/country.00044.wav  \n",
            "  inflating: music-genre-master/Dataset/country/country.00045.wav  \n",
            "  inflating: music-genre-master/Dataset/country/country.00046.wav  \n",
            "  inflating: music-genre-master/Dataset/country/country.00047.wav  \n",
            "  inflating: music-genre-master/Dataset/country/country.00048.wav  \n",
            "  inflating: music-genre-master/Dataset/country/country.00049.wav  \n",
            "  inflating: music-genre-master/Dataset/country/country.00050.wav  \n",
            "  inflating: music-genre-master/Dataset/country/country.00051.wav  \n",
            "  inflating: music-genre-master/Dataset/country/country.00052.wav  \n",
            "  inflating: music-genre-master/Dataset/country/country.00053.wav  \n",
            "  inflating: music-genre-master/Dataset/country/country.00054.wav  \n",
            "  inflating: music-genre-master/Dataset/country/country.00055.wav  \n",
            "  inflating: music-genre-master/Dataset/country/country.00056.wav  \n",
            "  inflating: music-genre-master/Dataset/country/country.00057.wav  \n",
            "  inflating: music-genre-master/Dataset/country/country.00058.wav  \n",
            "  inflating: music-genre-master/Dataset/country/country.00059.wav  \n",
            "  inflating: music-genre-master/Dataset/country/country.00060.wav  \n",
            "  inflating: music-genre-master/Dataset/country/country.00061.wav  \n",
            "  inflating: music-genre-master/Dataset/country/country.00062.wav  \n",
            "  inflating: music-genre-master/Dataset/country/country.00063.wav  \n",
            "  inflating: music-genre-master/Dataset/country/country.00064.wav  \n",
            "  inflating: music-genre-master/Dataset/country/country.00065.wav  \n",
            "  inflating: music-genre-master/Dataset/country/country.00066.wav  \n",
            "  inflating: music-genre-master/Dataset/country/country.00067.wav  \n",
            "  inflating: music-genre-master/Dataset/country/country.00068.wav  \n",
            "  inflating: music-genre-master/Dataset/country/country.00069.wav  \n",
            "  inflating: music-genre-master/Dataset/country/country.00070.wav  \n",
            "  inflating: music-genre-master/Dataset/country/country.00071.wav  \n",
            "  inflating: music-genre-master/Dataset/country/country.00072.wav  \n",
            "  inflating: music-genre-master/Dataset/country/country.00073.wav  \n",
            "  inflating: music-genre-master/Dataset/country/country.00074.wav  \n",
            "  inflating: music-genre-master/Dataset/country/country.00075.wav  \n",
            "  inflating: music-genre-master/Dataset/country/country.00076.wav  \n",
            "  inflating: music-genre-master/Dataset/country/country.00077.wav  \n",
            "  inflating: music-genre-master/Dataset/country/country.00078.wav  \n",
            "  inflating: music-genre-master/Dataset/country/country.00079.wav  \n",
            "  inflating: music-genre-master/Dataset/country/country.00080.wav  \n",
            "  inflating: music-genre-master/Dataset/country/country.00081.wav  \n",
            "  inflating: music-genre-master/Dataset/country/country.00082.wav  \n",
            "  inflating: music-genre-master/Dataset/country/country.00083.wav  \n",
            "  inflating: music-genre-master/Dataset/country/country.00084.wav  \n",
            "  inflating: music-genre-master/Dataset/country/country.00085.wav  \n",
            "  inflating: music-genre-master/Dataset/country/country.00086.wav  \n",
            "  inflating: music-genre-master/Dataset/country/country.00087.wav  \n",
            "  inflating: music-genre-master/Dataset/country/country.00088.wav  \n",
            "  inflating: music-genre-master/Dataset/country/country.00089.wav  \n",
            "  inflating: music-genre-master/Dataset/country/country.00090.wav  \n",
            "  inflating: music-genre-master/Dataset/country/country.00091.wav  \n",
            "  inflating: music-genre-master/Dataset/country/country.00092.wav  \n",
            "  inflating: music-genre-master/Dataset/country/country.00093.wav  \n",
            "  inflating: music-genre-master/Dataset/country/country.00094.wav  \n",
            "  inflating: music-genre-master/Dataset/country/country.00095.wav  \n",
            "  inflating: music-genre-master/Dataset/country/country.00096.wav  \n",
            "  inflating: music-genre-master/Dataset/country/country.00097.wav  \n",
            "  inflating: music-genre-master/Dataset/country/country.00098.wav  \n",
            "  inflating: music-genre-master/Dataset/country/country.00099.wav  \n",
            "   creating: music-genre-master/Dataset/disco/\n",
            "  inflating: music-genre-master/Dataset/disco/disco.00000.wav  \n",
            "  inflating: music-genre-master/Dataset/disco/disco.00001.wav  \n",
            "  inflating: music-genre-master/Dataset/disco/disco.00002.wav  \n",
            "  inflating: music-genre-master/Dataset/disco/disco.00003.wav  \n",
            "  inflating: music-genre-master/Dataset/disco/disco.00004.wav  \n",
            "  inflating: music-genre-master/Dataset/disco/disco.00005.wav  \n",
            "  inflating: music-genre-master/Dataset/disco/disco.00006.wav  \n",
            "  inflating: music-genre-master/Dataset/disco/disco.00007.wav  \n",
            "  inflating: music-genre-master/Dataset/disco/disco.00008.wav  \n",
            "  inflating: music-genre-master/Dataset/disco/disco.00009.wav  \n",
            "  inflating: music-genre-master/Dataset/disco/disco.00010.wav  \n",
            "  inflating: music-genre-master/Dataset/disco/disco.00011.wav  \n",
            "  inflating: music-genre-master/Dataset/disco/disco.00012.wav  \n",
            "  inflating: music-genre-master/Dataset/disco/disco.00013.wav  \n",
            "  inflating: music-genre-master/Dataset/disco/disco.00014.wav  \n",
            "  inflating: music-genre-master/Dataset/disco/disco.00015.wav  \n",
            "  inflating: music-genre-master/Dataset/disco/disco.00016.wav  \n",
            "  inflating: music-genre-master/Dataset/disco/disco.00017.wav  \n",
            "  inflating: music-genre-master/Dataset/disco/disco.00018.wav  \n",
            "  inflating: music-genre-master/Dataset/disco/disco.00019.wav  \n",
            "  inflating: music-genre-master/Dataset/disco/disco.00020.wav  \n",
            "  inflating: music-genre-master/Dataset/disco/disco.00021.wav  \n",
            "  inflating: music-genre-master/Dataset/disco/disco.00022.wav  \n",
            "  inflating: music-genre-master/Dataset/disco/disco.00023.wav  \n",
            "  inflating: music-genre-master/Dataset/disco/disco.00024.wav  \n",
            "  inflating: music-genre-master/Dataset/disco/disco.00025.wav  \n",
            "  inflating: music-genre-master/Dataset/disco/disco.00026.wav  \n",
            "  inflating: music-genre-master/Dataset/disco/disco.00027.wav  \n",
            "  inflating: music-genre-master/Dataset/disco/disco.00028.wav  \n",
            "  inflating: music-genre-master/Dataset/disco/disco.00029.wav  \n",
            "  inflating: music-genre-master/Dataset/disco/disco.00030.wav  \n",
            "  inflating: music-genre-master/Dataset/disco/disco.00031.wav  \n",
            "  inflating: music-genre-master/Dataset/disco/disco.00032.wav  \n",
            "  inflating: music-genre-master/Dataset/disco/disco.00033.wav  \n",
            "  inflating: music-genre-master/Dataset/disco/disco.00034.wav  \n",
            "  inflating: music-genre-master/Dataset/disco/disco.00035.wav  \n",
            "  inflating: music-genre-master/Dataset/disco/disco.00036.wav  \n",
            "  inflating: music-genre-master/Dataset/disco/disco.00037.wav  \n",
            "  inflating: music-genre-master/Dataset/disco/disco.00038.wav  \n",
            "  inflating: music-genre-master/Dataset/disco/disco.00039.wav  \n",
            "  inflating: music-genre-master/Dataset/disco/disco.00040.wav  \n",
            "  inflating: music-genre-master/Dataset/disco/disco.00041.wav  \n",
            "  inflating: music-genre-master/Dataset/disco/disco.00042.wav  \n",
            "  inflating: music-genre-master/Dataset/disco/disco.00043.wav  \n",
            "  inflating: music-genre-master/Dataset/disco/disco.00044.wav  \n",
            "  inflating: music-genre-master/Dataset/disco/disco.00045.wav  \n",
            "  inflating: music-genre-master/Dataset/disco/disco.00046.wav  \n",
            "  inflating: music-genre-master/Dataset/disco/disco.00047.wav  \n",
            "  inflating: music-genre-master/Dataset/disco/disco.00048.wav  \n",
            "  inflating: music-genre-master/Dataset/disco/disco.00049.wav  \n",
            "  inflating: music-genre-master/Dataset/disco/disco.00050.wav  \n",
            "  inflating: music-genre-master/Dataset/disco/disco.00051.wav  \n",
            "  inflating: music-genre-master/Dataset/disco/disco.00052.wav  \n",
            "  inflating: music-genre-master/Dataset/disco/disco.00053.wav  \n",
            "  inflating: music-genre-master/Dataset/disco/disco.00054.wav  \n",
            "  inflating: music-genre-master/Dataset/disco/disco.00055.wav  \n",
            "  inflating: music-genre-master/Dataset/disco/disco.00056.wav  \n",
            "  inflating: music-genre-master/Dataset/disco/disco.00057.wav  \n",
            "  inflating: music-genre-master/Dataset/disco/disco.00058.wav  \n",
            "  inflating: music-genre-master/Dataset/disco/disco.00059.wav  \n",
            "  inflating: music-genre-master/Dataset/disco/disco.00060.wav  \n",
            "  inflating: music-genre-master/Dataset/disco/disco.00061.wav  \n",
            "  inflating: music-genre-master/Dataset/disco/disco.00062.wav  \n",
            "  inflating: music-genre-master/Dataset/disco/disco.00063.wav  \n",
            "  inflating: music-genre-master/Dataset/disco/disco.00064.wav  \n",
            "  inflating: music-genre-master/Dataset/disco/disco.00065.wav  \n",
            "  inflating: music-genre-master/Dataset/disco/disco.00066.wav  \n",
            "  inflating: music-genre-master/Dataset/disco/disco.00067.wav  \n",
            "  inflating: music-genre-master/Dataset/disco/disco.00068.wav  \n",
            "  inflating: music-genre-master/Dataset/disco/disco.00069.wav  \n",
            "  inflating: music-genre-master/Dataset/disco/disco.00070.wav  \n",
            "  inflating: music-genre-master/Dataset/disco/disco.00071.wav  \n",
            "  inflating: music-genre-master/Dataset/disco/disco.00072.wav  \n",
            "  inflating: music-genre-master/Dataset/disco/disco.00073.wav  \n",
            "  inflating: music-genre-master/Dataset/disco/disco.00074.wav  \n",
            "  inflating: music-genre-master/Dataset/disco/disco.00075.wav  \n",
            "  inflating: music-genre-master/Dataset/disco/disco.00076.wav  \n",
            "  inflating: music-genre-master/Dataset/disco/disco.00077.wav  \n",
            "  inflating: music-genre-master/Dataset/disco/disco.00078.wav  \n",
            "  inflating: music-genre-master/Dataset/disco/disco.00079.wav  \n",
            "  inflating: music-genre-master/Dataset/disco/disco.00080.wav  \n",
            "  inflating: music-genre-master/Dataset/disco/disco.00081.wav  \n",
            "  inflating: music-genre-master/Dataset/disco/disco.00082.wav  \n",
            "  inflating: music-genre-master/Dataset/disco/disco.00083.wav  \n",
            "  inflating: music-genre-master/Dataset/disco/disco.00084.wav  \n",
            "  inflating: music-genre-master/Dataset/disco/disco.00085.wav  \n",
            "  inflating: music-genre-master/Dataset/disco/disco.00086.wav  \n",
            "  inflating: music-genre-master/Dataset/disco/disco.00087.wav  \n",
            "  inflating: music-genre-master/Dataset/disco/disco.00088.wav  \n",
            "  inflating: music-genre-master/Dataset/disco/disco.00089.wav  \n",
            "  inflating: music-genre-master/Dataset/disco/disco.00090.wav  \n",
            "  inflating: music-genre-master/Dataset/disco/disco.00091.wav  \n",
            "  inflating: music-genre-master/Dataset/disco/disco.00092.wav  \n",
            "  inflating: music-genre-master/Dataset/disco/disco.00093.wav  \n",
            "  inflating: music-genre-master/Dataset/disco/disco.00094.wav  \n",
            "  inflating: music-genre-master/Dataset/disco/disco.00095.wav  \n",
            "  inflating: music-genre-master/Dataset/disco/disco.00096.wav  \n",
            "  inflating: music-genre-master/Dataset/disco/disco.00097.wav  \n",
            "  inflating: music-genre-master/Dataset/disco/disco.00098.wav  \n",
            "  inflating: music-genre-master/Dataset/disco/disco.00099.wav  \n",
            "   creating: music-genre-master/Dataset/hiphop/\n",
            "  inflating: music-genre-master/Dataset/hiphop/hiphop.00000.wav  \n",
            "  inflating: music-genre-master/Dataset/hiphop/hiphop.00001.wav  \n",
            "  inflating: music-genre-master/Dataset/hiphop/hiphop.00002.wav  \n",
            "  inflating: music-genre-master/Dataset/hiphop/hiphop.00003.wav  \n",
            "  inflating: music-genre-master/Dataset/hiphop/hiphop.00004.wav  \n",
            "  inflating: music-genre-master/Dataset/hiphop/hiphop.00005.wav  \n",
            "  inflating: music-genre-master/Dataset/hiphop/hiphop.00006.wav  \n",
            "  inflating: music-genre-master/Dataset/hiphop/hiphop.00007.wav  \n",
            "  inflating: music-genre-master/Dataset/hiphop/hiphop.00008.wav  \n",
            "  inflating: music-genre-master/Dataset/hiphop/hiphop.00009.wav  \n",
            "  inflating: music-genre-master/Dataset/hiphop/hiphop.00010.wav  \n",
            "  inflating: music-genre-master/Dataset/hiphop/hiphop.00011.wav  \n",
            "  inflating: music-genre-master/Dataset/hiphop/hiphop.00012.wav  \n",
            "  inflating: music-genre-master/Dataset/hiphop/hiphop.00013.wav  \n",
            "  inflating: music-genre-master/Dataset/hiphop/hiphop.00014.wav  \n",
            "  inflating: music-genre-master/Dataset/hiphop/hiphop.00015.wav  \n",
            "  inflating: music-genre-master/Dataset/hiphop/hiphop.00016.wav  \n",
            "  inflating: music-genre-master/Dataset/hiphop/hiphop.00017.wav  \n",
            "  inflating: music-genre-master/Dataset/hiphop/hiphop.00018.wav  \n",
            "  inflating: music-genre-master/Dataset/hiphop/hiphop.00019.wav  \n",
            "  inflating: music-genre-master/Dataset/hiphop/hiphop.00020.wav  \n",
            "  inflating: music-genre-master/Dataset/hiphop/hiphop.00021.wav  \n",
            "  inflating: music-genre-master/Dataset/hiphop/hiphop.00022.wav  \n",
            "  inflating: music-genre-master/Dataset/hiphop/hiphop.00023.wav  \n",
            "  inflating: music-genre-master/Dataset/hiphop/hiphop.00024.wav  \n",
            "  inflating: music-genre-master/Dataset/hiphop/hiphop.00025.wav  \n",
            "  inflating: music-genre-master/Dataset/hiphop/hiphop.00026.wav  \n",
            "  inflating: music-genre-master/Dataset/hiphop/hiphop.00027.wav  \n",
            "  inflating: music-genre-master/Dataset/hiphop/hiphop.00028.wav  \n",
            "  inflating: music-genre-master/Dataset/hiphop/hiphop.00029.wav  \n",
            "  inflating: music-genre-master/Dataset/hiphop/hiphop.00030.wav  \n",
            "  inflating: music-genre-master/Dataset/hiphop/hiphop.00031.wav  \n",
            "  inflating: music-genre-master/Dataset/hiphop/hiphop.00032.wav  \n",
            "  inflating: music-genre-master/Dataset/hiphop/hiphop.00033.wav  \n",
            "  inflating: music-genre-master/Dataset/hiphop/hiphop.00034.wav  \n",
            "  inflating: music-genre-master/Dataset/hiphop/hiphop.00035.wav  \n",
            "  inflating: music-genre-master/Dataset/hiphop/hiphop.00036.wav  \n",
            "  inflating: music-genre-master/Dataset/hiphop/hiphop.00037.wav  \n",
            "  inflating: music-genre-master/Dataset/hiphop/hiphop.00038.wav  \n",
            "  inflating: music-genre-master/Dataset/hiphop/hiphop.00039.wav  \n",
            "  inflating: music-genre-master/Dataset/hiphop/hiphop.00040.wav  \n",
            "  inflating: music-genre-master/Dataset/hiphop/hiphop.00041.wav  \n",
            "  inflating: music-genre-master/Dataset/hiphop/hiphop.00042.wav  \n",
            "  inflating: music-genre-master/Dataset/hiphop/hiphop.00043.wav  \n",
            "  inflating: music-genre-master/Dataset/hiphop/hiphop.00044.wav  \n",
            "  inflating: music-genre-master/Dataset/hiphop/hiphop.00045.wav  \n",
            "  inflating: music-genre-master/Dataset/hiphop/hiphop.00046.wav  \n",
            "  inflating: music-genre-master/Dataset/hiphop/hiphop.00047.wav  \n",
            "  inflating: music-genre-master/Dataset/hiphop/hiphop.00048.wav  \n",
            "  inflating: music-genre-master/Dataset/hiphop/hiphop.00049.wav  \n",
            "  inflating: music-genre-master/Dataset/hiphop/hiphop.00050.wav  \n",
            "  inflating: music-genre-master/Dataset/hiphop/hiphop.00051.wav  \n",
            "  inflating: music-genre-master/Dataset/hiphop/hiphop.00052.wav  \n",
            "  inflating: music-genre-master/Dataset/hiphop/hiphop.00053.wav  \n",
            "  inflating: music-genre-master/Dataset/hiphop/hiphop.00054.wav  \n",
            "  inflating: music-genre-master/Dataset/hiphop/hiphop.00055.wav  \n",
            "  inflating: music-genre-master/Dataset/hiphop/hiphop.00056.wav  \n",
            "  inflating: music-genre-master/Dataset/hiphop/hiphop.00057.wav  \n",
            "  inflating: music-genre-master/Dataset/hiphop/hiphop.00058.wav  \n",
            "  inflating: music-genre-master/Dataset/hiphop/hiphop.00059.wav  \n",
            "  inflating: music-genre-master/Dataset/hiphop/hiphop.00060.wav  \n",
            "  inflating: music-genre-master/Dataset/hiphop/hiphop.00061.wav  \n",
            "  inflating: music-genre-master/Dataset/hiphop/hiphop.00062.wav  \n",
            "  inflating: music-genre-master/Dataset/hiphop/hiphop.00063.wav  \n",
            "  inflating: music-genre-master/Dataset/hiphop/hiphop.00064.wav  \n",
            "  inflating: music-genre-master/Dataset/hiphop/hiphop.00065.wav  \n",
            "  inflating: music-genre-master/Dataset/hiphop/hiphop.00066.wav  \n",
            "  inflating: music-genre-master/Dataset/hiphop/hiphop.00067.wav  \n",
            "  inflating: music-genre-master/Dataset/hiphop/hiphop.00068.wav  \n",
            "  inflating: music-genre-master/Dataset/hiphop/hiphop.00069.wav  \n",
            "  inflating: music-genre-master/Dataset/hiphop/hiphop.00070.wav  \n",
            "  inflating: music-genre-master/Dataset/hiphop/hiphop.00071.wav  \n",
            "  inflating: music-genre-master/Dataset/hiphop/hiphop.00072.wav  \n",
            "  inflating: music-genre-master/Dataset/hiphop/hiphop.00073.wav  \n",
            "  inflating: music-genre-master/Dataset/hiphop/hiphop.00074.wav  \n",
            "  inflating: music-genre-master/Dataset/hiphop/hiphop.00075.wav  \n",
            "  inflating: music-genre-master/Dataset/hiphop/hiphop.00076.wav  \n",
            "  inflating: music-genre-master/Dataset/hiphop/hiphop.00077.wav  \n",
            "  inflating: music-genre-master/Dataset/hiphop/hiphop.00078.wav  \n",
            "  inflating: music-genre-master/Dataset/hiphop/hiphop.00079.wav  \n",
            "  inflating: music-genre-master/Dataset/hiphop/hiphop.00080.wav  \n",
            "  inflating: music-genre-master/Dataset/hiphop/hiphop.00081.wav  \n",
            "  inflating: music-genre-master/Dataset/hiphop/hiphop.00082.wav  \n",
            "  inflating: music-genre-master/Dataset/hiphop/hiphop.00083.wav  \n",
            "  inflating: music-genre-master/Dataset/hiphop/hiphop.00084.wav  \n",
            "  inflating: music-genre-master/Dataset/hiphop/hiphop.00085.wav  \n",
            "  inflating: music-genre-master/Dataset/hiphop/hiphop.00086.wav  \n",
            "  inflating: music-genre-master/Dataset/hiphop/hiphop.00087.wav  \n",
            "  inflating: music-genre-master/Dataset/hiphop/hiphop.00088.wav  \n",
            "  inflating: music-genre-master/Dataset/hiphop/hiphop.00089.wav  \n",
            "  inflating: music-genre-master/Dataset/hiphop/hiphop.00090.wav  \n",
            "  inflating: music-genre-master/Dataset/hiphop/hiphop.00091.wav  \n",
            "  inflating: music-genre-master/Dataset/hiphop/hiphop.00092.wav  \n",
            "  inflating: music-genre-master/Dataset/hiphop/hiphop.00093.wav  \n",
            "  inflating: music-genre-master/Dataset/hiphop/hiphop.00094.wav  \n",
            "  inflating: music-genre-master/Dataset/hiphop/hiphop.00095.wav  \n",
            "  inflating: music-genre-master/Dataset/hiphop/hiphop.00096.wav  \n",
            "  inflating: music-genre-master/Dataset/hiphop/hiphop.00097.wav  \n",
            "  inflating: music-genre-master/Dataset/hiphop/hiphop.00098.wav  \n",
            "  inflating: music-genre-master/Dataset/hiphop/hiphop.00099.wav  \n",
            "   creating: music-genre-master/Dataset/metal/\n",
            "  inflating: music-genre-master/Dataset/metal/metal.00000.wav  \n",
            "  inflating: music-genre-master/Dataset/metal/metal.00001.wav  \n",
            "  inflating: music-genre-master/Dataset/metal/metal.00002.wav  \n",
            "  inflating: music-genre-master/Dataset/metal/metal.00003.wav  \n",
            "  inflating: music-genre-master/Dataset/metal/metal.00004.wav  \n",
            "  inflating: music-genre-master/Dataset/metal/metal.00005.wav  \n",
            "  inflating: music-genre-master/Dataset/metal/metal.00006.wav  \n",
            "  inflating: music-genre-master/Dataset/metal/metal.00007.wav  \n",
            "  inflating: music-genre-master/Dataset/metal/metal.00008.wav  \n",
            "  inflating: music-genre-master/Dataset/metal/metal.00009.wav  \n",
            "  inflating: music-genre-master/Dataset/metal/metal.00010.wav  \n",
            "  inflating: music-genre-master/Dataset/metal/metal.00011.wav  \n",
            "  inflating: music-genre-master/Dataset/metal/metal.00012.wav  \n",
            "  inflating: music-genre-master/Dataset/metal/metal.00013.wav  \n",
            "  inflating: music-genre-master/Dataset/metal/metal.00014.wav  \n",
            "  inflating: music-genre-master/Dataset/metal/metal.00015.wav  \n",
            "  inflating: music-genre-master/Dataset/metal/metal.00016.wav  \n",
            "  inflating: music-genre-master/Dataset/metal/metal.00017.wav  \n",
            "  inflating: music-genre-master/Dataset/metal/metal.00018.wav  \n",
            "  inflating: music-genre-master/Dataset/metal/metal.00019.wav  \n",
            "  inflating: music-genre-master/Dataset/metal/metal.00020.wav  \n",
            "  inflating: music-genre-master/Dataset/metal/metal.00021.wav  \n",
            "  inflating: music-genre-master/Dataset/metal/metal.00022.wav  \n",
            "  inflating: music-genre-master/Dataset/metal/metal.00023.wav  \n",
            "  inflating: music-genre-master/Dataset/metal/metal.00024.wav  \n",
            "  inflating: music-genre-master/Dataset/metal/metal.00025.wav  \n",
            "  inflating: music-genre-master/Dataset/metal/metal.00026.wav  \n",
            "  inflating: music-genre-master/Dataset/metal/metal.00027.wav  \n",
            "  inflating: music-genre-master/Dataset/metal/metal.00028.wav  \n",
            "  inflating: music-genre-master/Dataset/metal/metal.00029.wav  \n",
            "  inflating: music-genre-master/Dataset/metal/metal.00030.wav  \n",
            "  inflating: music-genre-master/Dataset/metal/metal.00031.wav  \n",
            "  inflating: music-genre-master/Dataset/metal/metal.00032.wav  \n",
            "  inflating: music-genre-master/Dataset/metal/metal.00033.wav  \n",
            "  inflating: music-genre-master/Dataset/metal/metal.00034.wav  \n",
            "  inflating: music-genre-master/Dataset/metal/metal.00035.wav  \n",
            "  inflating: music-genre-master/Dataset/metal/metal.00036.wav  \n",
            "  inflating: music-genre-master/Dataset/metal/metal.00037.wav  \n",
            "  inflating: music-genre-master/Dataset/metal/metal.00038.wav  \n",
            "  inflating: music-genre-master/Dataset/metal/metal.00039.wav  \n",
            "  inflating: music-genre-master/Dataset/metal/metal.00040.wav  \n",
            "  inflating: music-genre-master/Dataset/metal/metal.00041.wav  \n",
            "  inflating: music-genre-master/Dataset/metal/metal.00042.wav  \n",
            "  inflating: music-genre-master/Dataset/metal/metal.00043.wav  \n",
            "  inflating: music-genre-master/Dataset/metal/metal.00044.wav  \n",
            "  inflating: music-genre-master/Dataset/metal/metal.00045.wav  \n",
            "  inflating: music-genre-master/Dataset/metal/metal.00046.wav  \n",
            "  inflating: music-genre-master/Dataset/metal/metal.00047.wav  \n",
            "  inflating: music-genre-master/Dataset/metal/metal.00048.wav  \n",
            "  inflating: music-genre-master/Dataset/metal/metal.00049.wav  \n",
            "  inflating: music-genre-master/Dataset/metal/metal.00050.wav  \n",
            "  inflating: music-genre-master/Dataset/metal/metal.00051.wav  \n",
            "  inflating: music-genre-master/Dataset/metal/metal.00052.wav  \n",
            "  inflating: music-genre-master/Dataset/metal/metal.00053.wav  \n",
            "  inflating: music-genre-master/Dataset/metal/metal.00054.wav  \n",
            "  inflating: music-genre-master/Dataset/metal/metal.00055.wav  \n",
            "  inflating: music-genre-master/Dataset/metal/metal.00056.wav  \n",
            "  inflating: music-genre-master/Dataset/metal/metal.00057.wav  \n",
            "  inflating: music-genre-master/Dataset/metal/metal.00058.wav  \n",
            "  inflating: music-genre-master/Dataset/metal/metal.00059.wav  \n",
            "  inflating: music-genre-master/Dataset/metal/metal.00060.wav  \n",
            "  inflating: music-genre-master/Dataset/metal/metal.00061.wav  \n",
            "  inflating: music-genre-master/Dataset/metal/metal.00062.wav  \n",
            "  inflating: music-genre-master/Dataset/metal/metal.00063.wav  \n",
            "  inflating: music-genre-master/Dataset/metal/metal.00064.wav  \n",
            "  inflating: music-genre-master/Dataset/metal/metal.00065.wav  \n",
            "  inflating: music-genre-master/Dataset/metal/metal.00066.wav  \n",
            "  inflating: music-genre-master/Dataset/metal/metal.00067.wav  \n",
            "  inflating: music-genre-master/Dataset/metal/metal.00068.wav  \n",
            "  inflating: music-genre-master/Dataset/metal/metal.00069.wav  \n",
            "  inflating: music-genre-master/Dataset/metal/metal.00070.wav  \n",
            "  inflating: music-genre-master/Dataset/metal/metal.00071.wav  \n",
            "  inflating: music-genre-master/Dataset/metal/metal.00072.wav  \n",
            "  inflating: music-genre-master/Dataset/metal/metal.00073.wav  \n",
            "  inflating: music-genre-master/Dataset/metal/metal.00074.wav  \n",
            "  inflating: music-genre-master/Dataset/metal/metal.00075.wav  \n",
            "  inflating: music-genre-master/Dataset/metal/metal.00076.wav  \n",
            "  inflating: music-genre-master/Dataset/metal/metal.00077.wav  \n",
            "  inflating: music-genre-master/Dataset/metal/metal.00078.wav  \n",
            "  inflating: music-genre-master/Dataset/metal/metal.00079.wav  \n",
            "  inflating: music-genre-master/Dataset/metal/metal.00080.wav  \n",
            "  inflating: music-genre-master/Dataset/metal/metal.00081.wav  \n",
            "  inflating: music-genre-master/Dataset/metal/metal.00082.wav  \n",
            "  inflating: music-genre-master/Dataset/metal/metal.00083.wav  \n",
            "  inflating: music-genre-master/Dataset/metal/metal.00084.wav  \n",
            "  inflating: music-genre-master/Dataset/metal/metal.00085.wav  \n",
            "  inflating: music-genre-master/Dataset/metal/metal.00086.wav  \n",
            "  inflating: music-genre-master/Dataset/metal/metal.00087.wav  \n",
            "  inflating: music-genre-master/Dataset/metal/metal.00088.wav  \n",
            "  inflating: music-genre-master/Dataset/metal/metal.00089.wav  \n",
            "  inflating: music-genre-master/Dataset/metal/metal.00090.wav  \n",
            "  inflating: music-genre-master/Dataset/metal/metal.00091.wav  \n",
            "  inflating: music-genre-master/Dataset/metal/metal.00092.wav  \n",
            "  inflating: music-genre-master/Dataset/metal/metal.00093.wav  \n",
            "  inflating: music-genre-master/Dataset/metal/metal.00094.wav  \n",
            "  inflating: music-genre-master/Dataset/metal/metal.00095.wav  \n",
            "  inflating: music-genre-master/Dataset/metal/metal.00096.wav  \n",
            "  inflating: music-genre-master/Dataset/metal/metal.00097.wav  \n",
            "  inflating: music-genre-master/Dataset/metal/metal.00098.wav  \n",
            "  inflating: music-genre-master/Dataset/metal/metal.00099.wav  \n",
            "   creating: music-genre-master/Dataset/pop/\n",
            "  inflating: music-genre-master/Dataset/pop/pop.00000.wav  \n",
            "  inflating: music-genre-master/Dataset/pop/pop.00001.wav  \n",
            "  inflating: music-genre-master/Dataset/pop/pop.00002.wav  \n",
            "  inflating: music-genre-master/Dataset/pop/pop.00003.wav  \n",
            "  inflating: music-genre-master/Dataset/pop/pop.00004.wav  \n",
            "  inflating: music-genre-master/Dataset/pop/pop.00005.wav  \n",
            "  inflating: music-genre-master/Dataset/pop/pop.00006.wav  \n",
            "  inflating: music-genre-master/Dataset/pop/pop.00007.wav  \n",
            "  inflating: music-genre-master/Dataset/pop/pop.00008.wav  \n",
            "  inflating: music-genre-master/Dataset/pop/pop.00009.wav  \n",
            "  inflating: music-genre-master/Dataset/pop/pop.00010.wav  \n",
            "  inflating: music-genre-master/Dataset/pop/pop.00011.wav  \n",
            "  inflating: music-genre-master/Dataset/pop/pop.00012.wav  \n",
            "  inflating: music-genre-master/Dataset/pop/pop.00013.wav  \n",
            "  inflating: music-genre-master/Dataset/pop/pop.00014.wav  \n",
            "  inflating: music-genre-master/Dataset/pop/pop.00015.wav  \n",
            "  inflating: music-genre-master/Dataset/pop/pop.00016.wav  \n",
            "  inflating: music-genre-master/Dataset/pop/pop.00017.wav  \n",
            "  inflating: music-genre-master/Dataset/pop/pop.00018.wav  \n",
            "  inflating: music-genre-master/Dataset/pop/pop.00019.wav  \n",
            "  inflating: music-genre-master/Dataset/pop/pop.00020.wav  \n",
            "  inflating: music-genre-master/Dataset/pop/pop.00021.wav  \n",
            "  inflating: music-genre-master/Dataset/pop/pop.00022.wav  \n",
            "  inflating: music-genre-master/Dataset/pop/pop.00023.wav  \n",
            "  inflating: music-genre-master/Dataset/pop/pop.00024.wav  \n",
            "  inflating: music-genre-master/Dataset/pop/pop.00025.wav  \n",
            "  inflating: music-genre-master/Dataset/pop/pop.00026.wav  \n",
            "  inflating: music-genre-master/Dataset/pop/pop.00027.wav  \n",
            "  inflating: music-genre-master/Dataset/pop/pop.00028.wav  \n",
            "  inflating: music-genre-master/Dataset/pop/pop.00029.wav  \n",
            "  inflating: music-genre-master/Dataset/pop/pop.00030.wav  \n",
            "  inflating: music-genre-master/Dataset/pop/pop.00031.wav  \n",
            "  inflating: music-genre-master/Dataset/pop/pop.00032.wav  \n",
            "  inflating: music-genre-master/Dataset/pop/pop.00033.wav  \n",
            "  inflating: music-genre-master/Dataset/pop/pop.00034.wav  \n",
            "  inflating: music-genre-master/Dataset/pop/pop.00035.wav  \n",
            "  inflating: music-genre-master/Dataset/pop/pop.00036.wav  \n",
            "  inflating: music-genre-master/Dataset/pop/pop.00037.wav  \n",
            "  inflating: music-genre-master/Dataset/pop/pop.00038.wav  \n",
            "  inflating: music-genre-master/Dataset/pop/pop.00039.wav  \n",
            "  inflating: music-genre-master/Dataset/pop/pop.00040.wav  \n",
            "  inflating: music-genre-master/Dataset/pop/pop.00041.wav  \n",
            "  inflating: music-genre-master/Dataset/pop/pop.00042.wav  \n",
            "  inflating: music-genre-master/Dataset/pop/pop.00043.wav  \n",
            "  inflating: music-genre-master/Dataset/pop/pop.00044.wav  \n",
            "  inflating: music-genre-master/Dataset/pop/pop.00045.wav  \n",
            "  inflating: music-genre-master/Dataset/pop/pop.00046.wav  \n",
            "  inflating: music-genre-master/Dataset/pop/pop.00047.wav  \n",
            "  inflating: music-genre-master/Dataset/pop/pop.00048.wav  \n",
            "  inflating: music-genre-master/Dataset/pop/pop.00049.wav  \n",
            "  inflating: music-genre-master/Dataset/pop/pop.00050.wav  \n",
            "  inflating: music-genre-master/Dataset/pop/pop.00051.wav  \n",
            "  inflating: music-genre-master/Dataset/pop/pop.00052.wav  \n",
            "  inflating: music-genre-master/Dataset/pop/pop.00053.wav  \n",
            "  inflating: music-genre-master/Dataset/pop/pop.00054.wav  \n",
            "  inflating: music-genre-master/Dataset/pop/pop.00055.wav  \n",
            "  inflating: music-genre-master/Dataset/pop/pop.00056.wav  \n",
            "  inflating: music-genre-master/Dataset/pop/pop.00057.wav  \n",
            "  inflating: music-genre-master/Dataset/pop/pop.00058.wav  \n",
            "  inflating: music-genre-master/Dataset/pop/pop.00059.wav  \n",
            "  inflating: music-genre-master/Dataset/pop/pop.00060.wav  \n",
            "  inflating: music-genre-master/Dataset/pop/pop.00061.wav  \n",
            "  inflating: music-genre-master/Dataset/pop/pop.00062.wav  \n",
            "  inflating: music-genre-master/Dataset/pop/pop.00063.wav  \n",
            "  inflating: music-genre-master/Dataset/pop/pop.00064.wav  \n",
            "  inflating: music-genre-master/Dataset/pop/pop.00065.wav  \n",
            "  inflating: music-genre-master/Dataset/pop/pop.00066.wav  \n",
            "  inflating: music-genre-master/Dataset/pop/pop.00067.wav  \n",
            "  inflating: music-genre-master/Dataset/pop/pop.00068.wav  \n",
            "  inflating: music-genre-master/Dataset/pop/pop.00069.wav  \n",
            "  inflating: music-genre-master/Dataset/pop/pop.00070.wav  \n",
            "  inflating: music-genre-master/Dataset/pop/pop.00071.wav  \n",
            "  inflating: music-genre-master/Dataset/pop/pop.00072.wav  \n",
            "  inflating: music-genre-master/Dataset/pop/pop.00073.wav  \n",
            "  inflating: music-genre-master/Dataset/pop/pop.00074.wav  \n",
            "  inflating: music-genre-master/Dataset/pop/pop.00075.wav  \n",
            "  inflating: music-genre-master/Dataset/pop/pop.00076.wav  \n",
            "  inflating: music-genre-master/Dataset/pop/pop.00077.wav  \n",
            "  inflating: music-genre-master/Dataset/pop/pop.00078.wav  \n",
            "  inflating: music-genre-master/Dataset/pop/pop.00079.wav  \n",
            "  inflating: music-genre-master/Dataset/pop/pop.00080.wav  \n",
            "  inflating: music-genre-master/Dataset/pop/pop.00081.wav  \n",
            "  inflating: music-genre-master/Dataset/pop/pop.00082.wav  \n",
            "  inflating: music-genre-master/Dataset/pop/pop.00083.wav  \n",
            "  inflating: music-genre-master/Dataset/pop/pop.00084.wav  \n",
            "  inflating: music-genre-master/Dataset/pop/pop.00085.wav  \n",
            "  inflating: music-genre-master/Dataset/pop/pop.00086.wav  \n",
            "  inflating: music-genre-master/Dataset/pop/pop.00087.wav  \n",
            "  inflating: music-genre-master/Dataset/pop/pop.00088.wav  \n",
            "  inflating: music-genre-master/Dataset/pop/pop.00089.wav  \n",
            "  inflating: music-genre-master/Dataset/pop/pop.00090.wav  \n",
            "  inflating: music-genre-master/Dataset/pop/pop.00091.wav  \n",
            "  inflating: music-genre-master/Dataset/pop/pop.00092.wav  \n",
            "  inflating: music-genre-master/Dataset/pop/pop.00093.wav  \n",
            "  inflating: music-genre-master/Dataset/pop/pop.00094.wav  \n",
            "  inflating: music-genre-master/Dataset/pop/pop.00095.wav  \n",
            "  inflating: music-genre-master/Dataset/pop/pop.00096.wav  \n",
            "  inflating: music-genre-master/Dataset/pop/pop.00097.wav  \n",
            "  inflating: music-genre-master/Dataset/pop/pop.00098.wav  \n",
            "  inflating: music-genre-master/Dataset/pop/pop.00099.wav  \n",
            "   creating: music-genre-master/Dataset/reggae/\n",
            "  inflating: music-genre-master/Dataset/reggae/reggae.00000.wav  \n",
            "  inflating: music-genre-master/Dataset/reggae/reggae.00001.wav  \n",
            "  inflating: music-genre-master/Dataset/reggae/reggae.00002.wav  \n",
            "  inflating: music-genre-master/Dataset/reggae/reggae.00003.wav  \n",
            "  inflating: music-genre-master/Dataset/reggae/reggae.00004.wav  \n",
            "  inflating: music-genre-master/Dataset/reggae/reggae.00005.wav  \n",
            "  inflating: music-genre-master/Dataset/reggae/reggae.00006.wav  \n",
            "  inflating: music-genre-master/Dataset/reggae/reggae.00007.wav  \n",
            "  inflating: music-genre-master/Dataset/reggae/reggae.00008.wav  \n",
            "  inflating: music-genre-master/Dataset/reggae/reggae.00009.wav  \n",
            "  inflating: music-genre-master/Dataset/reggae/reggae.00010.wav  \n",
            "  inflating: music-genre-master/Dataset/reggae/reggae.00011.wav  \n",
            "  inflating: music-genre-master/Dataset/reggae/reggae.00012.wav  \n",
            "  inflating: music-genre-master/Dataset/reggae/reggae.00013.wav  \n",
            "  inflating: music-genre-master/Dataset/reggae/reggae.00014.wav  \n",
            "  inflating: music-genre-master/Dataset/reggae/reggae.00015.wav  \n",
            "  inflating: music-genre-master/Dataset/reggae/reggae.00016.wav  \n",
            "  inflating: music-genre-master/Dataset/reggae/reggae.00017.wav  \n",
            "  inflating: music-genre-master/Dataset/reggae/reggae.00018.wav  \n",
            "  inflating: music-genre-master/Dataset/reggae/reggae.00019.wav  \n",
            "  inflating: music-genre-master/Dataset/reggae/reggae.00020.wav  \n",
            "  inflating: music-genre-master/Dataset/reggae/reggae.00021.wav  \n",
            "  inflating: music-genre-master/Dataset/reggae/reggae.00022.wav  \n",
            "  inflating: music-genre-master/Dataset/reggae/reggae.00023.wav  \n",
            "  inflating: music-genre-master/Dataset/reggae/reggae.00024.wav  \n",
            "  inflating: music-genre-master/Dataset/reggae/reggae.00025.wav  \n",
            "  inflating: music-genre-master/Dataset/reggae/reggae.00026.wav  \n",
            "  inflating: music-genre-master/Dataset/reggae/reggae.00027.wav  \n",
            "  inflating: music-genre-master/Dataset/reggae/reggae.00028.wav  \n",
            "  inflating: music-genre-master/Dataset/reggae/reggae.00029.wav  \n",
            "  inflating: music-genre-master/Dataset/reggae/reggae.00030.wav  \n",
            "  inflating: music-genre-master/Dataset/reggae/reggae.00031.wav  \n",
            "  inflating: music-genre-master/Dataset/reggae/reggae.00032.wav  \n",
            "  inflating: music-genre-master/Dataset/reggae/reggae.00033.wav  \n",
            "  inflating: music-genre-master/Dataset/reggae/reggae.00034.wav  \n",
            "  inflating: music-genre-master/Dataset/reggae/reggae.00035.wav  \n",
            "  inflating: music-genre-master/Dataset/reggae/reggae.00036.wav  \n",
            "  inflating: music-genre-master/Dataset/reggae/reggae.00037.wav  \n",
            "  inflating: music-genre-master/Dataset/reggae/reggae.00038.wav  \n",
            "  inflating: music-genre-master/Dataset/reggae/reggae.00039.wav  \n",
            "  inflating: music-genre-master/Dataset/reggae/reggae.00040.wav  \n",
            "  inflating: music-genre-master/Dataset/reggae/reggae.00041.wav  \n",
            "  inflating: music-genre-master/Dataset/reggae/reggae.00042.wav  \n",
            "  inflating: music-genre-master/Dataset/reggae/reggae.00043.wav  \n",
            "  inflating: music-genre-master/Dataset/reggae/reggae.00044.wav  \n",
            "  inflating: music-genre-master/Dataset/reggae/reggae.00045.wav  \n",
            "  inflating: music-genre-master/Dataset/reggae/reggae.00046.wav  \n",
            "  inflating: music-genre-master/Dataset/reggae/reggae.00047.wav  \n",
            "  inflating: music-genre-master/Dataset/reggae/reggae.00048.wav  \n",
            "  inflating: music-genre-master/Dataset/reggae/reggae.00049.wav  \n",
            "  inflating: music-genre-master/Dataset/reggae/reggae.00050.wav  \n",
            "  inflating: music-genre-master/Dataset/reggae/reggae.00051.wav  \n",
            "  inflating: music-genre-master/Dataset/reggae/reggae.00052.wav  \n",
            "  inflating: music-genre-master/Dataset/reggae/reggae.00053.wav  \n",
            "  inflating: music-genre-master/Dataset/reggae/reggae.00054.wav  \n",
            "  inflating: music-genre-master/Dataset/reggae/reggae.00055.wav  \n",
            "  inflating: music-genre-master/Dataset/reggae/reggae.00056.wav  \n",
            "  inflating: music-genre-master/Dataset/reggae/reggae.00057.wav  \n",
            "  inflating: music-genre-master/Dataset/reggae/reggae.00058.wav  \n",
            "  inflating: music-genre-master/Dataset/reggae/reggae.00059.wav  \n",
            "  inflating: music-genre-master/Dataset/reggae/reggae.00060.wav  \n",
            "  inflating: music-genre-master/Dataset/reggae/reggae.00061.wav  \n",
            "  inflating: music-genre-master/Dataset/reggae/reggae.00062.wav  \n",
            "  inflating: music-genre-master/Dataset/reggae/reggae.00063.wav  \n",
            "  inflating: music-genre-master/Dataset/reggae/reggae.00064.wav  \n",
            "  inflating: music-genre-master/Dataset/reggae/reggae.00065.wav  \n",
            "  inflating: music-genre-master/Dataset/reggae/reggae.00066.wav  \n",
            "  inflating: music-genre-master/Dataset/reggae/reggae.00067.wav  \n",
            "  inflating: music-genre-master/Dataset/reggae/reggae.00068.wav  \n",
            "  inflating: music-genre-master/Dataset/reggae/reggae.00069.wav  \n",
            "  inflating: music-genre-master/Dataset/reggae/reggae.00070.wav  \n",
            "  inflating: music-genre-master/Dataset/reggae/reggae.00071.wav  \n",
            "  inflating: music-genre-master/Dataset/reggae/reggae.00072.wav  \n",
            "  inflating: music-genre-master/Dataset/reggae/reggae.00073.wav  \n",
            "  inflating: music-genre-master/Dataset/reggae/reggae.00074.wav  \n",
            "  inflating: music-genre-master/Dataset/reggae/reggae.00075.wav  \n",
            "  inflating: music-genre-master/Dataset/reggae/reggae.00076.wav  \n",
            "  inflating: music-genre-master/Dataset/reggae/reggae.00077.wav  \n",
            "  inflating: music-genre-master/Dataset/reggae/reggae.00078.wav  \n",
            "  inflating: music-genre-master/Dataset/reggae/reggae.00079.wav  \n",
            "  inflating: music-genre-master/Dataset/reggae/reggae.00080.wav  \n",
            "  inflating: music-genre-master/Dataset/reggae/reggae.00081.wav  \n",
            "  inflating: music-genre-master/Dataset/reggae/reggae.00082.wav  \n",
            "  inflating: music-genre-master/Dataset/reggae/reggae.00083.wav  \n",
            "  inflating: music-genre-master/Dataset/reggae/reggae.00084.wav  \n",
            "  inflating: music-genre-master/Dataset/reggae/reggae.00085.wav  \n",
            "  inflating: music-genre-master/Dataset/reggae/reggae.00086.wav  \n",
            "  inflating: music-genre-master/Dataset/reggae/reggae.00087.wav  \n",
            "  inflating: music-genre-master/Dataset/reggae/reggae.00088.wav  \n",
            "  inflating: music-genre-master/Dataset/reggae/reggae.00089.wav  \n",
            "  inflating: music-genre-master/Dataset/reggae/reggae.00090.wav  \n",
            "  inflating: music-genre-master/Dataset/reggae/reggae.00091.wav  \n",
            "  inflating: music-genre-master/Dataset/reggae/reggae.00092.wav  \n",
            "  inflating: music-genre-master/Dataset/reggae/reggae.00093.wav  \n",
            "  inflating: music-genre-master/Dataset/reggae/reggae.00094.wav  \n",
            "  inflating: music-genre-master/Dataset/reggae/reggae.00095.wav  \n",
            "  inflating: music-genre-master/Dataset/reggae/reggae.00096.wav  \n",
            "  inflating: music-genre-master/Dataset/reggae/reggae.00097.wav  \n",
            "  inflating: music-genre-master/Dataset/reggae/reggae.00098.wav  \n",
            "  inflating: music-genre-master/Dataset/reggae/reggae.00099.wav  \n",
            "   creating: music-genre-master/Dataset/rock/\n",
            "  inflating: music-genre-master/Dataset/rock/rock.00000.wav  \n",
            "  inflating: music-genre-master/Dataset/rock/rock.00001.wav  \n",
            "  inflating: music-genre-master/Dataset/rock/rock.00002.wav  \n",
            "  inflating: music-genre-master/Dataset/rock/rock.00003.wav  \n",
            "  inflating: music-genre-master/Dataset/rock/rock.00004.wav  \n",
            "  inflating: music-genre-master/Dataset/rock/rock.00005.wav  \n",
            "  inflating: music-genre-master/Dataset/rock/rock.00006.wav  \n",
            "  inflating: music-genre-master/Dataset/rock/rock.00007.wav  \n",
            "  inflating: music-genre-master/Dataset/rock/rock.00008.wav  \n",
            "  inflating: music-genre-master/Dataset/rock/rock.00009.wav  \n",
            "  inflating: music-genre-master/Dataset/rock/rock.00010.wav  \n",
            "  inflating: music-genre-master/Dataset/rock/rock.00011.wav  \n",
            "  inflating: music-genre-master/Dataset/rock/rock.00012.wav  \n",
            "  inflating: music-genre-master/Dataset/rock/rock.00013.wav  \n",
            "  inflating: music-genre-master/Dataset/rock/rock.00014.wav  \n",
            "  inflating: music-genre-master/Dataset/rock/rock.00015.wav  \n",
            "  inflating: music-genre-master/Dataset/rock/rock.00016.wav  \n",
            "  inflating: music-genre-master/Dataset/rock/rock.00017.wav  \n",
            "  inflating: music-genre-master/Dataset/rock/rock.00018.wav  \n",
            "  inflating: music-genre-master/Dataset/rock/rock.00019.wav  \n",
            "  inflating: music-genre-master/Dataset/rock/rock.00020.wav  \n",
            "  inflating: music-genre-master/Dataset/rock/rock.00021.wav  \n",
            "  inflating: music-genre-master/Dataset/rock/rock.00022.wav  \n",
            "  inflating: music-genre-master/Dataset/rock/rock.00023.wav  \n",
            "  inflating: music-genre-master/Dataset/rock/rock.00024.wav  \n",
            "  inflating: music-genre-master/Dataset/rock/rock.00025.wav  \n",
            "  inflating: music-genre-master/Dataset/rock/rock.00026.wav  \n",
            "  inflating: music-genre-master/Dataset/rock/rock.00027.wav  \n",
            "  inflating: music-genre-master/Dataset/rock/rock.00028.wav  \n",
            "  inflating: music-genre-master/Dataset/rock/rock.00029.wav  \n",
            "  inflating: music-genre-master/Dataset/rock/rock.00030.wav  \n",
            "  inflating: music-genre-master/Dataset/rock/rock.00031.wav  \n",
            "  inflating: music-genre-master/Dataset/rock/rock.00032.wav  \n",
            "  inflating: music-genre-master/Dataset/rock/rock.00033.wav  \n",
            "  inflating: music-genre-master/Dataset/rock/rock.00034.wav  \n",
            "  inflating: music-genre-master/Dataset/rock/rock.00035.wav  \n",
            "  inflating: music-genre-master/Dataset/rock/rock.00036.wav  \n",
            "  inflating: music-genre-master/Dataset/rock/rock.00037.wav  \n",
            "  inflating: music-genre-master/Dataset/rock/rock.00038.wav  \n",
            "  inflating: music-genre-master/Dataset/rock/rock.00039.wav  \n",
            "  inflating: music-genre-master/Dataset/rock/rock.00040.wav  \n",
            "  inflating: music-genre-master/Dataset/rock/rock.00041.wav  \n",
            "  inflating: music-genre-master/Dataset/rock/rock.00042.wav  \n",
            "  inflating: music-genre-master/Dataset/rock/rock.00043.wav  \n",
            "  inflating: music-genre-master/Dataset/rock/rock.00044.wav  \n",
            "  inflating: music-genre-master/Dataset/rock/rock.00045.wav  \n",
            "  inflating: music-genre-master/Dataset/rock/rock.00046.wav  \n",
            "  inflating: music-genre-master/Dataset/rock/rock.00047.wav  \n",
            "  inflating: music-genre-master/Dataset/rock/rock.00048.wav  \n",
            "  inflating: music-genre-master/Dataset/rock/rock.00049.wav  \n",
            "  inflating: music-genre-master/Dataset/rock/rock.00050.wav  \n",
            "  inflating: music-genre-master/Dataset/rock/rock.00051.wav  \n",
            "  inflating: music-genre-master/Dataset/rock/rock.00052.wav  \n",
            "  inflating: music-genre-master/Dataset/rock/rock.00053.wav  \n",
            "  inflating: music-genre-master/Dataset/rock/rock.00054.wav  \n",
            "  inflating: music-genre-master/Dataset/rock/rock.00055.wav  \n",
            "  inflating: music-genre-master/Dataset/rock/rock.00056.wav  \n",
            "  inflating: music-genre-master/Dataset/rock/rock.00057.wav  \n",
            "  inflating: music-genre-master/Dataset/rock/rock.00058.wav  \n",
            "  inflating: music-genre-master/Dataset/rock/rock.00059.wav  \n",
            "  inflating: music-genre-master/Dataset/rock/rock.00060.wav  \n",
            "  inflating: music-genre-master/Dataset/rock/rock.00061.wav  \n",
            "  inflating: music-genre-master/Dataset/rock/rock.00062.wav  \n",
            "  inflating: music-genre-master/Dataset/rock/rock.00063.wav  \n",
            "  inflating: music-genre-master/Dataset/rock/rock.00064.wav  \n",
            "  inflating: music-genre-master/Dataset/rock/rock.00065.wav  \n",
            "  inflating: music-genre-master/Dataset/rock/rock.00066.wav  \n",
            "  inflating: music-genre-master/Dataset/rock/rock.00067.wav  \n",
            "  inflating: music-genre-master/Dataset/rock/rock.00068.wav  \n",
            "  inflating: music-genre-master/Dataset/rock/rock.00069.wav  \n",
            "  inflating: music-genre-master/Dataset/rock/rock.00070.wav  \n",
            "  inflating: music-genre-master/Dataset/rock/rock.00071.wav  \n",
            "  inflating: music-genre-master/Dataset/rock/rock.00072.wav  \n",
            "  inflating: music-genre-master/Dataset/rock/rock.00073.wav  \n",
            "  inflating: music-genre-master/Dataset/rock/rock.00074.wav  \n",
            "  inflating: music-genre-master/Dataset/rock/rock.00075.wav  \n",
            "  inflating: music-genre-master/Dataset/rock/rock.00076.wav  \n",
            "  inflating: music-genre-master/Dataset/rock/rock.00077.wav  \n",
            "  inflating: music-genre-master/Dataset/rock/rock.00078.wav  \n",
            "  inflating: music-genre-master/Dataset/rock/rock.00079.wav  \n",
            "  inflating: music-genre-master/Dataset/rock/rock.00080.wav  \n",
            "  inflating: music-genre-master/Dataset/rock/rock.00081.wav  \n",
            "  inflating: music-genre-master/Dataset/rock/rock.00082.wav  \n",
            "  inflating: music-genre-master/Dataset/rock/rock.00083.wav  \n",
            "  inflating: music-genre-master/Dataset/rock/rock.00084.wav  \n",
            "  inflating: music-genre-master/Dataset/rock/rock.00085.wav  \n",
            "  inflating: music-genre-master/Dataset/rock/rock.00086.wav  \n",
            "  inflating: music-genre-master/Dataset/rock/rock.00087.wav  \n",
            "  inflating: music-genre-master/Dataset/rock/rock.00088.wav  \n",
            "  inflating: music-genre-master/Dataset/rock/rock.00089.wav  \n",
            "  inflating: music-genre-master/Dataset/rock/rock.00090.wav  \n",
            "  inflating: music-genre-master/Dataset/rock/rock.00091.wav  \n",
            "  inflating: music-genre-master/Dataset/rock/rock.00092.wav  \n",
            "  inflating: music-genre-master/Dataset/rock/rock.00093.wav  \n",
            "  inflating: music-genre-master/Dataset/rock/rock.00094.wav  \n",
            "  inflating: music-genre-master/Dataset/rock/rock.00095.wav  \n",
            "  inflating: music-genre-master/Dataset/rock/rock.00096.wav  \n",
            "  inflating: music-genre-master/Dataset/rock/rock.00097.wav  \n",
            "  inflating: music-genre-master/Dataset/rock/rock.00098.wav  \n",
            "  inflating: music-genre-master/Dataset/rock/rock.00099.wav  \n",
            "  inflating: music-genre-master/Music Genre Classification.ipynb  \n",
            "  inflating: music-genre-master/new_audio_file.wav  \n",
            "  inflating: music-genre-master/new_audio_file_1.wav  \n",
            "  inflating: music-genre-master/new_audio_file_2.wav  \n",
            "  inflating: music-genre-master/new_audio_file_3.wav  \n",
            "  inflating: music-genre-master/new_audio_file_4.wav  \n"
          ]
        }
      ],
      "source": [
        "!wget https://github.com/abcom-mltutorials/music-genre/archive/master.zip\n",
        "\n",
        "!unzip \"/content/master.zip\""
      ]
    },
    {
      "cell_type": "markdown",
      "source": [
        "We will create a Python list of all the downloaded files for processing them in a single loop.The output shows you that there are totally 900 files (9 categories * 100 files in each.)"
      ],
      "metadata": {
        "id": "zlvyuYcERej7"
      }
    },
    {
      "cell_type": "code",
      "execution_count": null,
      "metadata": {
        "colab": {
          "base_uri": "https://localhost:8080/"
        },
        "id": "eYAzNMGcx1rA",
        "outputId": "9c59ded1-d56a-4a26-9a7a-7c27a7b4de3e"
      },
      "outputs": [
        {
          "output_type": "stream",
          "name": "stdout",
          "text": [
            "900\n"
          ]
        }
      ],
      "source": [
        "directory = \"/content/music-genre-master/Dataset\"\n",
        "filelist=[]\n",
        "for path, subdirs, files in os.walk(directory):\n",
        "   for file in files:\n",
        "       if (file.endswith('.wav') or file.endswith('.WAV')):\n",
        "           filelist.append(os.path.join(path, file))\n",
        "number_of_files=len(filelist)\n",
        "print(number_of_files)"
      ]
    },
    {
      "cell_type": "markdown",
      "source": [
        "We use the MFCC(Mel-frequency cepstral coefficients) library from python_speech_features module for extracting music features. This library extracts 13 features from the audio file. We write a utility function to extract the features:"
      ],
      "metadata": {
        "id": "Qn9cuud_RvFg"
      }
    },
    {
      "cell_type": "code",
      "execution_count": null,
      "metadata": {
        "id": "JZDBYs4rx-NB"
      },
      "outputs": [],
      "source": [
        "def feature_extraction(file):\n",
        " features=[]\n",
        " (sampleRate,data) = wav.read(file)\n",
        " mfcc_feature = mfcc(data,sampleRate,\n",
        "                           winlen=0.020,\n",
        "                           appendEnergy = False)\n",
        " meanMatrix = mfcc_feature.mean(0)\n",
        " for x in meanMatrix:\n",
        "   features.append(x)\n",
        " return features"
      ]
    },
    {
      "cell_type": "markdown",
      "source": [
        "We create a loop to extract the features of each file in our database along with the class label and create a Python list for feeding it to our ML model."
      ],
      "metadata": {
        "id": "uR56eCucR6zl"
      }
    },
    {
      "cell_type": "code",
      "execution_count": null,
      "metadata": {
        "id": "G_wqWehkyAZ2"
      },
      "outputs": [],
      "source": [
        "datasetDirectory = \"/content/music-genre-master/Dataset/\"\n",
        "\n",
        "featureSet=[]\n",
        "i=0\n",
        "for folder in os.listdir(datasetDirectory):\n",
        "   i+=1\n",
        "   if i > 9: # the number of genres is 9\n",
        "       break\n",
        "   for files in os.listdir(datasetDirectory+folder):\n",
        "     x=datasetDirectory+folder+\"/\"+files\n",
        "     features=feature_extraction(x)\n",
        "     j=0\n",
        "     for x in features:\n",
        "       featureSet.append(x)\n",
        "       j=j+1\n",
        "       if(j%13==0):\n",
        "         featureSet.append(i)"
      ]
    },
    {
      "cell_type": "markdown",
      "source": [
        "To examine the contents of the created list, try this print statement.Thus, the values from 14 through 27 will show the features of the second file in our dataset. The last value in the print output is 1, which shows that the genre of this second file is of type 1, which is “Blues.”"
      ],
      "metadata": {
        "id": "enAwqZxIS-Qx"
      }
    },
    {
      "cell_type": "code",
      "execution_count": null,
      "metadata": {
        "colab": {
          "base_uri": "https://localhost:8080/"
        },
        "id": "lI6yKF4vyEdU",
        "outputId": "ceab354a-a40a-4c84-adce-fea06aff7361"
      },
      "outputs": [
        {
          "output_type": "stream",
          "name": "stdout",
          "text": [
            "66.0159089291739\n",
            "7.318642039176122\n",
            "-3.630719195622741\n",
            "7.477667758210491\n",
            "-3.8325015082537073\n",
            "7.394798301651919\n",
            "-15.616784414375585\n",
            "5.440683454229917\n",
            "-15.426153006509821\n",
            "3.568401616951543\n",
            "-5.056542265475403\n",
            "0.29967490715456496\n",
            "-6.634330612255568\n",
            "1\n"
          ]
        }
      ],
      "source": [
        "for i in range(14,28):\n",
        " print (featureSet[i])"
      ]
    },
    {
      "cell_type": "markdown",
      "source": [
        "Convert the features list into a dataframe for further processing. We name the thirteen columns for features and a target column for the target value as follows."
      ],
      "metadata": {
        "id": "f-55z_RFTHgC"
      }
    },
    {
      "cell_type": "code",
      "execution_count": null,
      "metadata": {
        "id": "jvrDbhGnyI81"
      },
      "outputs": [],
      "source": [
        "df = pd.DataFrame(columns=['m1','m2','m3','m4','m5','m6','m7',\n",
        "                          'm8','m9','m10','m11','m12','m13','target'])"
      ]
    },
    {
      "cell_type": "markdown",
      "source": [
        "We create a loop for constructing the dataframe from featureSet as follows:"
      ],
      "metadata": {
        "id": "CTksaq5JYiXg"
      }
    },
    {
      "cell_type": "code",
      "execution_count": null,
      "metadata": {
        "id": "t31dLsw-yJZF"
      },
      "outputs": [],
      "source": [
        "i=1\n",
        "n=[]\n",
        "for j in featureSet:\n",
        " n.append(j)\n",
        " #13 features + 1 taget\n",
        " if(i%14==0):\n",
        "   df = df.append({'m1':n[0],'m2':n[1],'m3':n[2],'m4':n[3],'m5':n[4],\n",
        "                   'm6':n[5],'m7':n[6],'m8':n[7],'m9':n[8],'m10':n[9],\n",
        "                   'm11':n[10],'m12':n[11],'m13':n[12],'target':n[13]},\n",
        "                  ignore_index=True)\n",
        "   n=[]\n",
        " i=i+1"
      ]
    },
    {
      "cell_type": "markdown",
      "source": [
        "We separate out the features and labels using the following code.You will see that the shape of x1 is (900,13) showing 900 rows one for each file and 13 columns that give the features for each individual .wav file. The target shape is obviously (900,1), where the column shows the class of genre."
      ],
      "metadata": {
        "id": "DnR5k_gIY4av"
      }
    },
    {
      "cell_type": "code",
      "execution_count": null,
      "metadata": {
        "colab": {
          "base_uri": "https://localhost:8080/"
        },
        "id": "BT8un2ZFyLad",
        "outputId": "575a74bf-6a08-416b-85b8-9e69ac4c9d35"
      },
      "outputs": [
        {
          "output_type": "execute_result",
          "data": {
            "text/plain": [
              "(900, 1)"
            ]
          },
          "metadata": {},
          "execution_count": 10
        }
      ],
      "source": [
        "x1=df[['m1','m2','m3','m4','m5','m6','m7','m8','m9','m10','m11','m12','m13']]\n",
        "x1.shape\n",
        "\n",
        "Y = df[['target']]\n",
        "Y.shape"
      ]
    },
    {
      "cell_type": "markdown",
      "source": [
        "Split the dataset into training and testing using sklearn library"
      ],
      "metadata": {
        "id": "IZUDL9eWZc6m"
      }
    },
    {
      "cell_type": "code",
      "execution_count": null,
      "metadata": {
        "id": "igeAl4OcyQN6"
      },
      "outputs": [],
      "source": [
        "from sklearn.model_selection import train_test_split\n",
        "X_train, X_test, y_train, y_test = train_test_split(x1, Y,\n",
        "                                                   test_size=0.2,\n",
        "                                                   random_state=42)"
      ]
    },
    {
      "cell_type": "markdown",
      "source": [
        "Training the logistic regression model using the earlier generated dataset."
      ],
      "metadata": {
        "id": "RfXuht8KZ6gu"
      }
    },
    {
      "cell_type": "code",
      "execution_count": null,
      "metadata": {
        "colab": {
          "base_uri": "https://localhost:8080/"
        },
        "id": "bfN5Q0PDyRCL",
        "outputId": "5a07e7c1-5ca4-4882-ba0d-ecaef2d2d9d0"
      },
      "outputs": [
        {
          "output_type": "stream",
          "name": "stderr",
          "text": [
            "/usr/local/lib/python3.7/dist-packages/sklearn/utils/validation.py:993: DataConversionWarning: A column-vector y was passed when a 1d array was expected. Please change the shape of y to (n_samples, ), for example using ravel().\n",
            "  y = column_or_1d(y, warn=True)\n",
            "/usr/local/lib/python3.7/dist-packages/sklearn/linear_model/_logistic.py:818: ConvergenceWarning: lbfgs failed to converge (status=1):\n",
            "STOP: TOTAL NO. of ITERATIONS REACHED LIMIT.\n",
            "\n",
            "Increase the number of iterations (max_iter) or scale the data as shown in:\n",
            "    https://scikit-learn.org/stable/modules/preprocessing.html\n",
            "Please also refer to the documentation for alternative solver options:\n",
            "    https://scikit-learn.org/stable/modules/linear_model.html#logistic-regression\n",
            "  extra_warning_msg=_LOGISTIC_SOLVER_CONVERGENCE_MSG,\n"
          ]
        }
      ],
      "source": [
        "from sklearn.linear_model import LogisticRegression\n",
        "clf = LogisticRegression(random_state=0).fit(X_train,y_train)"
      ]
    },
    {
      "cell_type": "markdown",
      "source": [
        "Use the trained model on the test dataset."
      ],
      "metadata": {
        "id": "v-4DkZtHacyP"
      }
    },
    {
      "cell_type": "code",
      "execution_count": null,
      "metadata": {
        "colab": {
          "base_uri": "https://localhost:8080/"
        },
        "id": "67oITVcYyTAQ",
        "outputId": "c58cb434-7be8-4f49-8f15-bc5d7814acf4"
      },
      "outputs": [
        {
          "output_type": "execute_result",
          "data": {
            "text/plain": [
              "array([5., 9., 3., 9., 1., 9., 3., 2., 1., 1., 2., 9., 9., 2., 8., 7., 2.,\n",
              "       5., 5., 1., 7., 8., 6., 4., 6., 5., 1., 9., 5., 7., 3., 3., 3., 9.,\n",
              "       4., 7., 1., 7., 7., 3., 1., 7., 4., 1., 6., 1., 3., 9., 5., 9., 7.,\n",
              "       8., 3., 3., 3., 4., 9., 9., 6., 6., 9., 4., 8., 7., 3., 2., 7., 8.,\n",
              "       4., 5., 6., 6., 9., 1., 2., 9., 5., 7., 1., 1., 6., 2., 7., 1., 9.,\n",
              "       9., 7., 3., 3., 6., 8., 3., 9., 9., 8., 4., 9., 2., 1., 8., 8., 5.,\n",
              "       1., 6., 9., 3., 8., 3., 9., 5., 9., 2., 6., 5., 9., 7., 9., 9., 8.,\n",
              "       9., 5., 6., 3., 7., 3., 7., 3., 8., 8., 2., 6., 9., 4., 2., 3., 3.,\n",
              "       6., 9., 1., 3., 3., 9., 6., 8., 8., 3., 9., 2., 6., 1., 1., 7., 5.,\n",
              "       4., 5., 2., 1., 6., 9., 7., 1., 7., 6., 4., 8., 5., 1., 9., 9., 5.,\n",
              "       9., 3., 7., 5., 6., 9., 9., 3., 9., 7.])"
            ]
          },
          "metadata": {},
          "execution_count": 13
        }
      ],
      "source": [
        "predicted_value = clf.predict(X_test)\n",
        "predicted_value"
      ]
    },
    {
      "cell_type": "markdown",
      "source": [
        "As you can see, we classify each file in the test dataset in one category ranging from 1 to 9. You may visualize the performance by plotting the confusion matrix using the following code:"
      ],
      "metadata": {
        "id": "7-PI6DNmaifN"
      }
    },
    {
      "cell_type": "code",
      "execution_count": null,
      "metadata": {
        "colab": {
          "base_uri": "https://localhost:8080/",
          "height": 355
        },
        "id": "oeCRP_rgyWIV",
        "outputId": "93a6801a-800f-4df3-91e5-8a7d3cba2ffa"
      },
      "outputs": [
        {
          "output_type": "stream",
          "name": "stderr",
          "text": [
            "/usr/local/lib/python3.7/dist-packages/sklearn/utils/deprecation.py:87: FutureWarning: Function plot_confusion_matrix is deprecated; Function `plot_confusion_matrix` is deprecated in 1.0 and will be removed in 1.2. Use one of the class methods: ConfusionMatrixDisplay.from_predictions or ConfusionMatrixDisplay.from_estimator.\n",
            "  warnings.warn(msg, category=FutureWarning)\n"
          ]
        },
        {
          "output_type": "execute_result",
          "data": {
            "text/plain": [
              "<sklearn.metrics._plot.confusion_matrix.ConfusionMatrixDisplay at 0x7f3a893485d0>"
            ]
          },
          "metadata": {},
          "execution_count": 14
        },
        {
          "output_type": "display_data",
          "data": {
            "text/plain": [
              "<Figure size 432x288 with 2 Axes>"
            ],
            "image/png": "[encoded data removed]"
          },
          "metadata": {
            "needs_background": "light"
          }
        }
      ],
      "source": [
        "sklearn.metrics.plot_confusion_matrix(clf, X_test, y_test)"
      ]
    },
    {
      "cell_type": "markdown",
      "source": [
        "Another way to evaluate the performance is by printing the various metrics:"
      ],
      "metadata": {
        "id": "Bz7zqZweaqsV"
      }
    },
    {
      "cell_type": "code",
      "execution_count": null,
      "metadata": {
        "colab": {
          "base_uri": "https://localhost:8080/"
        },
        "id": "GF98DXeXygVk",
        "outputId": "9c4f91f6-cf6f-4053-d23c-67b241042fba"
      },
      "outputs": [
        {
          "output_type": "stream",
          "name": "stdout",
          "text": [
            "              precision    recall  f1-score   support\n",
            "\n",
            "         1.0       0.62      0.52      0.57        25\n",
            "         2.0       0.85      0.85      0.85        13\n",
            "         3.0       0.69      0.82      0.75        22\n",
            "         4.0       0.70      0.32      0.44        22\n",
            "         5.0       0.65      0.50      0.56        22\n",
            "         6.0       0.42      0.35      0.38        23\n",
            "         7.0       0.19      0.25      0.22        16\n",
            "         8.0       0.38      0.33      0.35        18\n",
            "         9.0       0.49      0.95      0.64        19\n",
            "\n",
            "    accuracy                           0.53       180\n",
            "   macro avg       0.55      0.54      0.53       180\n",
            "weighted avg       0.56      0.53      0.52       180\n",
            "\n"
          ]
        }
      ],
      "source": [
        "print(classification_report(y_test, predicted_value))"
      ]
    },
    {
      "cell_type": "code",
      "execution_count": null,
      "metadata": {
        "id": "AgXq7SmPyik2"
      },
      "outputs": [],
      "source": [
        "audio_file=\"/content/music-genre-master/new_audio_file.wav\"\n",
        "audio_feature=feature_extraction(audio_file)"
      ]
    },
    {
      "cell_type": "markdown",
      "source": [
        "The code is like what you did for your training and testing data above. It stores the extracted features in a list. We do a prediction on this list using our trained model clf."
      ],
      "metadata": {
        "id": "JxXwV2G0bPU5"
      }
    },
    {
      "cell_type": "code",
      "execution_count": null,
      "metadata": {
        "colab": {
          "base_uri": "https://localhost:8080/",
          "height": 70
        },
        "id": "MGbFybTfylX-",
        "outputId": "e2f674b2-571f-4eae-d641-b14f6c9662a8"
      },
      "outputs": [
        {
          "output_type": "stream",
          "name": "stderr",
          "text": [
            "/usr/local/lib/python3.7/dist-packages/sklearn/base.py:451: UserWarning: X does not have valid feature names, but LogisticRegression was fitted with feature names\n",
            "  \"X does not have valid feature names, but\"\n"
          ]
        },
        {
          "output_type": "execute_result",
          "data": {
            "text/plain": [
              "'country'"
            ],
            "application/vnd.google.colaboratory.intrinsic+json": {
              "type": "string"
            }
          },
          "metadata": {},
          "execution_count": 17
        }
      ],
      "source": [
        "from collections import defaultdict\n",
        "results=defaultdict(int)\n",
        "i=1\n",
        "for folder in os.listdir(\"/content/music-genre-master/Dataset/\"):\n",
        "    results[i]=folder\n",
        "    i+=1\n",
        "pred_audio=clf.predict([audio_feature])\n",
        "results[int(pred_audio)]"
      ]
    },
    {
      "cell_type": "markdown",
      "source": [
        "Just copy any desired mp3 file to your content folder. We need to convert this file into a .wav format. Declare the two variables:"
      ],
      "metadata": {
        "id": "fTNHN5speevp"
      }
    },
    {
      "cell_type": "code",
      "execution_count": null,
      "metadata": {
        "id": "MJsDgCD3yzBa"
      },
      "outputs": [],
      "source": [
        "src=\"/content/sample1.mp3\"\n",
        "dst = \"test.wav\""
      ]
    },
    {
      "cell_type": "markdown",
      "source": [
        "Convert the file using following code:"
      ],
      "metadata": {
        "id": "zNiX3AHcfGtF"
      }
    },
    {
      "cell_type": "code",
      "execution_count": null,
      "metadata": {
        "colab": {
          "base_uri": "https://localhost:8080/"
        },
        "id": "ePtmuweSy3Wb",
        "outputId": "b727f841-7b81-49e6-dfd2-7e0f61467306"
      },
      "outputs": [
        {
          "output_type": "execute_result",
          "data": {
            "text/plain": [
              "<_io.BufferedRandom name='test.wav'>"
            ]
          },
          "metadata": {},
          "execution_count": 22
        }
      ],
      "source": [
        "sound = AudioSegment.from_mp3(src)\n",
        "sound.export(dst, format=\"wav\")"
      ]
    },
    {
      "cell_type": "markdown",
      "source": [
        "Extract the features using our earlier defined function:"
      ],
      "metadata": {
        "id": "ClyEAm0hfMoo"
      }
    },
    {
      "cell_type": "code",
      "execution_count": null,
      "metadata": {
        "colab": {
          "base_uri": "https://localhost:8080/"
        },
        "id": "O9zHoAJ4y7QB",
        "outputId": "83b6fea3-5e6f-465e-9020-0c9085222510"
      },
      "outputs": [
        {
          "output_type": "stream",
          "name": "stderr",
          "text": [
            "WARNING:root:frame length (960) is greater than FFT size (512), frame will be truncated. Increase NFFT to avoid.\n"
          ]
        }
      ],
      "source": [
        "audio_file=\"/content/test.wav\"\n",
        "audio_feature=feature_extraction(audio_file)\n"
      ]
    },
    {
      "cell_type": "markdown",
      "source": [
        "Predict the genre using the following code."
      ],
      "metadata": {
        "id": "RX5kLAWqfWu1"
      }
    },
    {
      "cell_type": "code",
      "execution_count": null,
      "metadata": {
        "colab": {
          "base_uri": "https://localhost:8080/",
          "height": 70
        },
        "id": "606W6PQ6y91x",
        "outputId": "f827cc95-5981-45b6-bd49-78e0a623eaf6"
      },
      "outputs": [
        {
          "output_type": "stream",
          "name": "stderr",
          "text": [
            "/usr/local/lib/python3.7/dist-packages/sklearn/base.py:451: UserWarning: X does not have valid feature names, but LogisticRegression was fitted with feature names\n",
            "  \"X does not have valid feature names, but\"\n"
          ]
        },
        {
          "output_type": "execute_result",
          "data": {
            "text/plain": [
              "'blues'"
            ],
            "application/vnd.google.colaboratory.intrinsic+json": {
              "type": "string"
            }
          },
          "metadata": {},
          "execution_count": 24
        }
      ],
      "source": [
        "pred_audio=clf.predict([audio_feature])\n",
        "results[int(pred_audio)-2]"
      ]
    }
  ],
  "metadata": {
    "colab": {
      "provenance": [],
      "include_colab_link": true
    },
    "kernelspec": {
      "display_name": "Python 3",
      "name": "python3"
    },
    "language_info": {
      "name": "python"
    }
  },
  "nbformat": 4,
  "nbformat_minor": 0
}